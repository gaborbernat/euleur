{
 "metadata": {
  "name": "",
  "signature": "sha256:06d9b0877341359eca31ba8eea6dba480bee6e451ab1a772acdaf65e4c4fd05f"
 },
 "nbformat": 3,
 "nbformat_minor": 0,
 "worksheets": [
  {
   "cells": [
    {
     "cell_type": "markdown",
     "metadata": {},
     "source": [
      "The Fibonacci sequence is defined by the recurrence relation:\n",
      "\n",
      "$$F_n = F_{n\u22121} + F_{n\u22122},\\mbox{ where } F_1 = 1 \\mbox{ and } F_2 = 1.$$\n",
      "\n",
      "Hence the first 12 terms will be:\n",
      "$$\n",
      "F_1 = 1\\\\\n",
      "F_2 = 1\\\\\n",
      "F_3 = 2\\\\\n",
      "F_4 = 3\\\\\n",
      "F_5 = 5\\\\\n",
      "F_6 = 8\\\\\n",
      "F_7 = 13\\\\\n",
      "F_8 = 21\\\\\n",
      "F_9 = 34\\\\\n",
      "F_{10} = 55\\\\\n",
      "F_{11} = 89\\\\\n",
      "F_{12} = 144\\\\\n",
      "$$\n",
      "The 12th term, F12, is the first term to contain three digits.\n",
      "\n",
      "What is the first term in the Fibonacci sequence to contain 1000 digits?"
     ]
    },
    {
     "cell_type": "code",
     "collapsed": false,
     "input": [
      "def fib():\n",
      "    a = 0\n",
      "    b = 1\n",
      "    yield b\n",
      "    while True:\n",
      "        a, b = b, a + b\n",
      "        yield b"
     ],
     "language": "python",
     "metadata": {},
     "outputs": [],
     "prompt_number": 12
    },
    {
     "cell_type": "code",
     "collapsed": false,
     "input": [
      "n = 12\n",
      "for at, f in enumerate(fib(), start=1):\n",
      "    print(at, f)\n",
      "    if at == n:\n",
      "        break"
     ],
     "language": "python",
     "metadata": {},
     "outputs": [
      {
       "output_type": "stream",
       "stream": "stdout",
       "text": [
        "1 1\n",
        "2 1\n",
        "3 2\n",
        "4 3\n",
        "5 5\n",
        "6 8\n",
        "7 13\n",
        "8 21\n",
        "9 34\n",
        "10 55\n",
        "11 89\n",
        "12 144\n"
       ]
      }
     ],
     "prompt_number": 13
    },
    {
     "cell_type": "code",
     "collapsed": false,
     "input": [
      "def at_least_n(n):\n",
      "    for at, f in enumerate(fib(), start=1):\n",
      "        l = len(str(f))\n",
      "        if l >= n:\n",
      "            return at, l , f\n",
      "            break"
     ],
     "language": "python",
     "metadata": {},
     "outputs": [],
     "prompt_number": 15
    },
    {
     "cell_type": "code",
     "collapsed": false,
     "input": [
      "at_least_n(3)"
     ],
     "language": "python",
     "metadata": {},
     "outputs": [
      {
       "metadata": {},
       "output_type": "pyout",
       "prompt_number": 16,
       "text": [
        "(12, 3, 144)"
       ]
      }
     ],
     "prompt_number": 16
    },
    {
     "cell_type": "code",
     "collapsed": false,
     "input": [
      "at_least_n(1000)"
     ],
     "language": "python",
     "metadata": {},
     "outputs": [
      {
       "metadata": {},
       "output_type": "pyout",
       "prompt_number": 17,
       "text": [
        "(4782,\n",
        " 1000,\n",
        " 1070066266382758936764980584457396885083683896632151665013235203375314520604694040621889147582489792657804694888177591957484336466672569959512996030461262748092482186144069433051234774442750273781753087579391666192149259186759553966422837148943113074699503439547001985432609723067290192870526447243726117715821825548491120525013201478612965931381792235559657452039506137551467837543229119602129934048260706175397706847068202895486902666185435124521900369480641357447470911707619766945691070098024393439617474103736912503231365532164773697023167755051595173518460579954919410967778373229665796581646513903488154256310184224190259846088000110186255550245493937113651657039447629584714548523425950428582425306083544435428212611008992863795048006894330309773217834864543113205765659868456288616808718693835297350643986297640660000723562917905207051164077614812491885830945940566688339109350944456576357666151619317753792891661581327159616877487983821820492520348473874384736771934512787029218636250627816)"
       ]
      }
     ],
     "prompt_number": 17
    }
   ],
   "metadata": {}
  }
 ]
}