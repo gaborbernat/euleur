{
 "metadata": {
  "name": "",
  "signature": "sha256:9318f3d081a1997a5654390869d6d73e8999e6b1f217e501663d3adc809f88bd"
 },
 "nbformat": 3,
 "nbformat_minor": 0,
 "worksheets": [
  {
   "cells": [
    {
     "cell_type": "markdown",
     "metadata": {},
     "source": [
      "Find the greatest product of five consecutive digits in the 1000-digit number."
     ]
    },
    {
     "cell_type": "code",
     "collapsed": false,
     "input": [
      "n = \"\"\"73167176531330624919225119674426574742355349194934\n",
      "96983520312774506326239578318016984801869478851843\n",
      "85861560789112949495459501737958331952853208805511\n",
      "12540698747158523863050715693290963295227443043557\n",
      "66896648950445244523161731856403098711121722383113\n",
      "62229893423380308135336276614282806444486645238749\n",
      "30358907296290491560440772390713810515859307960866\n",
      "70172427121883998797908792274921901699720888093776\n",
      "65727333001053367881220235421809751254540594752243\n",
      "52584907711670556013604839586446706324415722155397\n",
      "53697817977846174064955149290862569321978468622482\n",
      "83972241375657056057490261407972968652414535100474\n",
      "82166370484403199890008895243450658541227588666881\n",
      "16427171479924442928230863465674813919123162824586\n",
      "17866458359124566529476545682848912883142607690042\n",
      "24219022671055626321111109370544217506941658960408\n",
      "07198403850962455444362981230987879927244284909188\n",
      "84580156166097919133875499200524063689912560717606\n",
      "05886116467109405077541002256983155200055935729725\n",
      "71636269561882670428252483600823257530420752963450\"\"\""
     ],
     "language": "python",
     "metadata": {},
     "outputs": [],
     "prompt_number": 5
    },
    {
     "cell_type": "heading",
     "level": 2,
     "metadata": {},
     "source": [
      "Naive implementation:"
     ]
    },
    {
     "cell_type": "markdown",
     "metadata": {},
     "source": [
      "First, we'll generate the consecutive arrays:"
     ]
    },
    {
     "cell_type": "code",
     "collapsed": false,
     "input": [
      "import re\n",
      "def group_by_count(b, count):\n",
      "    for i in range(0, max(0, len(b) - count)):\n",
      "        yield b[i : i + count]"
     ],
     "language": "python",
     "metadata": {},
     "outputs": [],
     "prompt_number": 8
    },
    {
     "cell_type": "markdown",
     "metadata": {},
     "source": [
      "Then we'll create a function to generate products:"
     ]
    },
    {
     "cell_type": "code",
     "collapsed": false,
     "input": [
      "def product(a):\n",
      "    res = 1\n",
      "    for i in a:\n",
      "        res *= int(i)\n",
      "    return res"
     ],
     "language": "python",
     "metadata": {},
     "outputs": [],
     "prompt_number": 9
    },
    {
     "cell_type": "markdown",
     "metadata": {},
     "source": [
      "Finally just calculate:"
     ]
    },
    {
     "cell_type": "code",
     "collapsed": false,
     "input": [
      "r = 0\n",
      "for i in group_by_count(re.sub(\"[^0-9]\", \"\", n), 5):\n",
      "    r = max(r, product(i))\n",
      "print (r)"
     ],
     "language": "python",
     "metadata": {},
     "outputs": [
      {
       "output_type": "stream",
       "stream": "stdout",
       "text": [
        "40824\n"
       ]
      }
     ],
     "prompt_number": 10
    },
    {
     "cell_type": "heading",
     "level": 2,
     "metadata": {},
     "source": [
      "Stream implementation:"
     ]
    },
    {
     "cell_type": "markdown",
     "metadata": {},
     "source": [
      "Now let's consider that we have a stream, the length of string being unknown:"
     ]
    },
    {
     "cell_type": "code",
     "collapsed": false,
     "input": [
      "def int_number(element):\n",
      "    return int(element) if element.isdigit() else None\n",
      "from collections import deque\n",
      "\n",
      "r = 1 \n",
      "l = 5\n",
      "numbers = deque()\n",
      "# first collect l - 1 elements\n",
      "it = iter(n)\n",
      "l -= 1\n",
      "try:\n",
      "    while l != 0:\n",
      "        element = int_number(next(it))\n",
      "        if element is not None:\n",
      "            r *= element\n",
      "            numbers.append(element)\n",
      "            l -= 1\n",
      "except Exception as not_enough_elements:\n",
      "    r = None\n",
      "    \n",
      "# then at each new element we can just calculate\n",
      "try:\n",
      "    last_l_product = r\n",
      "    while True:\n",
      "        element = int_number(next(it))\n",
      "        if element is not None:\n",
      "            numbers.append(element)\n",
      "            cur = product(numbers)\n",
      "            numbers.popleft()\n",
      "            r = max(r, cur)\n",
      "except Exception as ignored:\n",
      "    pass\n",
      "print(r)"
     ],
     "language": "python",
     "metadata": {},
     "outputs": [
      {
       "output_type": "stream",
       "stream": "stdout",
       "text": [
        "40824\n"
       ]
      }
     ],
     "prompt_number": 41
    }
   ],
   "metadata": {}
  }
 ]
}