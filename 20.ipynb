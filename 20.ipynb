{
 "metadata": {
  "name": "",
  "signature": "sha256:16b9374f3d15f83f9ad47e8b47a3af583a76b8b2cf00dd712e3f9162de46fd2e"
 },
 "nbformat": 3,
 "nbformat_minor": 0,
 "worksheets": [
  {
   "cells": [
    {
     "cell_type": "markdown",
     "metadata": {},
     "source": [
      "n! means $$n \u00d7 (n \u2212 1) \u00d7 ... \u00d7 3 \u00d7 2 \u00d7 1$$\n",
      "\n",
      "For example, $$10! = 10 \u00d7 9 \u00d7 ... \u00d7 3 \u00d7 2 \u00d7 1 = 3628800,$$\n",
      "and the sum of the digits in the number $$10! \\mbox{ is } 3 + 6 + 2 + 8 + 8 + 0 + 0 = 27.$$\n",
      "\n",
      "Find the sum of the digits in the number 100!"
     ]
    },
    {
     "cell_type": "code",
     "collapsed": false,
     "input": [
      "from math import factorial\n",
      "print( sum(int(i) for i in str(factorial(100))))"
     ],
     "language": "python",
     "metadata": {},
     "outputs": [
      {
       "output_type": "stream",
       "stream": "stdout",
       "text": [
        "648\n"
       ]
      }
     ],
     "prompt_number": 4
    }
   ],
   "metadata": {}
  }
 ]
}