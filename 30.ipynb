{
 "metadata": {
  "name": "",
  "signature": "sha256:6916f11c3da5a8f7a63c79b8fbac352a46176bb05d62f49b259cea0372137b0a"
 },
 "nbformat": 3,
 "nbformat_minor": 0,
 "worksheets": [
  {
   "cells": [
    {
     "cell_type": "markdown",
     "metadata": {},
     "source": [
      "Find the sum of all the numbers that can be written as the sum of fifth powers of their digits."
     ]
    },
    {
     "cell_type": "code",
     "collapsed": false,
     "input": [
      "5*9**5"
     ],
     "language": "python",
     "metadata": {},
     "outputs": [
      {
       "metadata": {},
       "output_type": "pyout",
       "prompt_number": 56,
       "text": [
        "295245"
       ]
      }
     ],
     "prompt_number": 56
    },
    {
     "cell_type": "code",
     "collapsed": false,
     "input": [
      "def calc(p):\n",
      "    n = {str(i):i**p for i in range(0, 10)}\n",
      "    a = []\n",
      "    for i in range(2, len(str(p*9**p))*(9**p)):\n",
      "        s = sum(n[i] for i in str(i))\n",
      "        if s == i and i > 9:\n",
      "            print(i)\n",
      "            a.append(i)\n",
      "    return sum(a)"
     ],
     "language": "python",
     "metadata": {},
     "outputs": [],
     "prompt_number": 62
    },
    {
     "cell_type": "code",
     "collapsed": false,
     "input": [
      "calc(4)"
     ],
     "language": "python",
     "metadata": {},
     "outputs": [
      {
       "output_type": "stream",
       "stream": "stdout",
       "text": [
        "1634\n",
        "8208\n",
        "9474\n"
       ]
      },
      {
       "metadata": {},
       "output_type": "pyout",
       "prompt_number": 63,
       "text": [
        "19316"
       ]
      }
     ],
     "prompt_number": 63
    },
    {
     "cell_type": "code",
     "collapsed": false,
     "input": [
      "calc(5)"
     ],
     "language": "python",
     "metadata": {},
     "outputs": [
      {
       "output_type": "stream",
       "stream": "stdout",
       "text": [
        "4150\n",
        "4151\n",
        "54748"
       ]
      },
      {
       "output_type": "stream",
       "stream": "stdout",
       "text": [
        "\n",
        "92727"
       ]
      },
      {
       "output_type": "stream",
       "stream": "stdout",
       "text": [
        "\n",
        "93084\n",
        "194979"
       ]
      },
      {
       "output_type": "stream",
       "stream": "stdout",
       "text": [
        "\n"
       ]
      },
      {
       "metadata": {},
       "output_type": "pyout",
       "prompt_number": 64,
       "text": [
        "443839"
       ]
      }
     ],
     "prompt_number": 64
    }
   ],
   "metadata": {}
  }
 ]
}