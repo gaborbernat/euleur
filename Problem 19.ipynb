{
 "metadata": {
  "name": "",
  "signature": "sha256:b271af52ef73ede6a994bb6d8d24850acd64449bc5f1206d2a2c3a8911926f96"
 },
 "nbformat": 3,
 "nbformat_minor": 0,
 "worksheets": [
  {
   "cells": [
    {
     "cell_type": "markdown",
     "metadata": {},
     "source": [
      "You are given the following information, but you may prefer to do some research for yourself.\n",
      "\n",
      " - 1 Jan 1900 was a Monday.\n",
      " - Thirty days has September,\n",
      " - April, June and November.\n",
      " - All the rest have thirty-one,\n",
      " - Saving February alone,\n",
      " - Which has twenty-eight, rain or shine.\n",
      " - And on leap years, twenty-nine.\n",
      "\n",
      "A leap year occurs on any year evenly divisible by 4, but not on a century unless it is divisible by 400.\n",
      "How many Sundays fell on the first of the month during the twentieth century (1 Jan 1901 to 31 Dec 2000)?"
     ]
    },
    {
     "cell_type": "markdown",
     "metadata": {},
     "source": [
      "Ok, so if I learned anything as an integration engineer is that datetime stuff is hard. Use libraries whenever possible to avoid them. The solution follows this idea:"
     ]
    },
    {
     "cell_type": "code",
     "collapsed": false,
     "input": [
      "from dateutil.rrule import rrule, WEEKLY, SU\n",
      "from dateutil.parser import parse\n",
      "print (len( list( z for z in \n",
      "                 rrule(WEEKLY, byweekday=(SU), dtstart=parse(\"19010101T000000\"), until=parse(\"20010101T000000\")) \n",
      "                 if z.day == 1 )))"
     ],
     "language": "python",
     "metadata": {},
     "outputs": [
      {
       "output_type": "stream",
       "stream": "stdout",
       "text": [
        "171\n"
       ]
      }
     ],
     "prompt_number": 53
    }
   ],
   "metadata": {}
  }
 ]
}