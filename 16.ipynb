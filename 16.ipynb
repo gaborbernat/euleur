{
 "metadata": {
  "name": "",
  "signature": "sha256:d3ed267fafe311a55bb1794834d85387ccaf633027cfa53ccd212a5675610fb4"
 },
 "nbformat": 3,
 "nbformat_minor": 0,
 "worksheets": [
  {
   "cells": [
    {
     "cell_type": "code",
     "collapsed": false,
     "input": [
      "sum(int(i) for i in str(2**1000))"
     ],
     "language": "python",
     "metadata": {},
     "outputs": [
      {
       "metadata": {},
       "output_type": "pyout",
       "prompt_number": 3,
       "text": [
        "1366"
       ]
      }
     ],
     "prompt_number": 3
    }
   ],
   "metadata": {}
  }
 ]
}