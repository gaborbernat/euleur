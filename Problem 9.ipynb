{
 "metadata": {
  "name": "",
  "signature": "sha256:af6a28fb4bcfd268f0823b12f752706e67c9b865f7d2e977b8e9152b3e5aae17"
 },
 "nbformat": 3,
 "nbformat_minor": 0,
 "worksheets": [
  {
   "cells": [
    {
     "cell_type": "markdown",
     "metadata": {},
     "source": [
      "A Pythagorean triplet is a set of three natural numbers, $$a < b < c$$, for which:\n",
      "\n",
      "$$a^2 + b^2 = c^2.$$\n",
      "\n",
      "For example: $$3^2 + 4^2 = 9 + 16 = 25 = 5^2.$$\n",
      "\n",
      "There exists exactly one Pythagorean triplet for which $$a + b + c = 1000.$$\n",
      "Find the product abc."
     ]
    },
    {
     "cell_type": "markdown",
     "metadata": {},
     "source": [
      "First, we can reform to say that:\n",
      "$$ c = 10^3 - (a+b)$$\n",
      "so, \n",
      "\n",
      "$$a^2+b^2=c^2=(10^3 - (a+b))^2.$$\n",
      "\n",
      "This turns into:\n",
      "\n",
      "$$a^2+b^2=10^6+a^2+b^2 + 2 ab - 2\\cdot10^3(a+b)$$\n",
      "\n",
      "which leads to:\n",
      "\n",
      "$$ 2\\cdot10^3(a+b)- 2 ab = 10^6$$\n",
      "\n",
      "with $$a<b \\mbox{ with } a,b \\in \\mathbb{N}.$$"
     ]
    },
    {
     "cell_type": "code",
     "collapsed": false,
     "input": [
      "def is_true_for_searched(a, b):\n",
      "    return 2 * (10 ** 3) * (a+b) - 2*a*b == 10**6\n",
      "is_true_for_searched(3, 4)"
     ],
     "language": "python",
     "metadata": {},
     "outputs": [
      {
       "metadata": {},
       "output_type": "pyout",
       "prompt_number": 12,
       "text": [
        "False"
       ]
      }
     ],
     "prompt_number": 12
    },
    {
     "cell_type": "code",
     "collapsed": false,
     "input": [
      "def get_a_b_c():\n",
      "    from math import sqrt\n",
      "    for i in range(2, 1000):\n",
      "        for j in range(i, 1000):\n",
      "            if is_true_for_searched(i, j):\n",
      "                return i, j, sqrt((i**2+j**2))"
     ],
     "language": "python",
     "metadata": {},
     "outputs": [],
     "prompt_number": 30
    },
    {
     "cell_type": "code",
     "collapsed": false,
     "input": [
      "a, b, c = get_a_b_c()\n",
      "print(a, b, c, a*b*c)"
     ],
     "language": "python",
     "metadata": {},
     "outputs": [
      {
       "output_type": "stream",
       "stream": "stdout",
       "text": [
        "200 375 425.0 31875000.0\n"
       ]
      }
     ],
     "prompt_number": 32
    },
    {
     "cell_type": "code",
     "collapsed": false,
     "input": [
      "%timeit get_a_b_c()"
     ],
     "language": "python",
     "metadata": {},
     "outputs": [
      {
       "output_type": "stream",
       "stream": "stdout",
       "text": [
        "10 loops, best of 3: 51.4 ms per loop\n"
       ]
      }
     ],
     "prompt_number": 34
    }
   ],
   "metadata": {}
  }
 ]
}