{
 "metadata": {
  "name": "",
  "signature": "sha256:84bf349debe3f1bec00ce394cf370bc381ac41bc9553ad58ab8dc24429dcae7b"
 },
 "nbformat": 3,
 "nbformat_minor": 0,
 "worksheets": [
  {
   "cells": [
    {
     "cell_type": "code",
     "collapsed": false,
     "input": [
      "def n():\n",
      "    l = set()\n",
      "    for a in range(2,n + 1):\n",
      "        for b in range(2,n + 1):\n",
      "            l.add(a**b)\n",
      "    return(len(l))"
     ],
     "language": "python",
     "metadata": {},
     "outputs": [
      {
       "output_type": "stream",
       "stream": "stdout",
       "text": [
        "9183\n"
       ]
      }
     ],
     "prompt_number": 6
    }
   ],
   "metadata": {}
  }
 ]
}