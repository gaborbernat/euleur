{
 "metadata": {
  "name": "",
  "signature": "sha256:9ea77ec20300c16fadb6d7ceb5e3f50abaf86edb78c82ff783857a9bec0a3615"
 },
 "nbformat": 3,
 "nbformat_minor": 0,
 "worksheets": [
  {
   "cells": [
    {
     "cell_type": "markdown",
     "metadata": {},
     "source": [
      "By listing the first six prime numbers: 2, 3, 5, 7, 11, and 13, we can see that the 6th prime is 13.\n",
      "\n",
      "What is the 10 001st prime number?"
     ]
    },
    {
     "cell_type": "markdown",
     "metadata": {},
     "source": [
      "this solution just starts to divide by the prime numbers, but we do only for primes $<\\sqrt{p}$ and use binary search to find the limit."
     ]
    },
    {
     "cell_type": "code",
     "collapsed": false,
     "input": [
      "def find_n_th_prime(n):\n",
      "    from math import sqrt\n",
      "    from bisect import bisect_right\n",
      "    primes = [2]\n",
      "    i = 3\n",
      "\n",
      "    while n != len(primes):\n",
      "        ok = True\n",
      "        for p in primes[:bisect_right(primes, sqrt(i))]:\n",
      "            if i % p == 0:\n",
      "                ok = False\n",
      "                break\n",
      "        if ok:\n",
      "            primes.append(i)\n",
      "        i += 1\n",
      "\n",
      "    print('\\n', len(primes), primes[-1:])\n",
      "find_n_th_prime(n=10001)"
     ],
     "language": "python",
     "metadata": {},
     "outputs": [
      {
       "output_type": "stream",
       "stream": "stdout",
       "text": [
        "\n",
        " 10001 [104743]\n"
       ]
      }
     ],
     "prompt_number": 56
    },
    {
     "cell_type": "code",
     "collapsed": false,
     "input": [
      "%timeit find_n_th_prime(n=10001)"
     ],
     "language": "python",
     "metadata": {},
     "outputs": [
      {
       "output_type": "stream",
       "stream": "stdout",
       "text": [
        "\n",
        " 10001 [104743]\n",
        "\n"
       ]
      },
      {
       "output_type": "stream",
       "stream": "stdout",
       "text": [
        " 10001 [104743]\n",
        "\n"
       ]
      },
      {
       "output_type": "stream",
       "stream": "stdout",
       "text": [
        " 10001 [104743]\n",
        "\n"
       ]
      },
      {
       "output_type": "stream",
       "stream": "stdout",
       "text": [
        " 10001 [104743]\n",
        "1 loops, best of 3: 288 ms per loop\n"
       ]
      }
     ],
     "prompt_number": 57
    }
   ],
   "metadata": {}
  }
 ]
}