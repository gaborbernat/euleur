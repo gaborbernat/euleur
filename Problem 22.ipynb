{
 "metadata": {
  "name": "",
  "signature": "sha256:7d25c28761a64994cdf6d1951ec3011cc04109d54a9c38aa2dad57d2f4de7918"
 },
 "nbformat": 3,
 "nbformat_minor": 0,
 "worksheets": [
  {
   "cells": [
    {
     "cell_type": "markdown",
     "metadata": {},
     "source": [
      "Using names.txt a 46K text file containing over five-thousand first names, begin by sorting it into alphabetical order. Then working out the alphabetical value for each name, multiply this value by its alphabetical position in the list to obtain a name score.\n",
      "\n",
      "For example, when the list is sorted into alphabetical order, COLIN, which is worth 3 + 15 + 12 + 9 + 14 = 53, is the 938th name in the list. So, COLIN would obtain a score of 938 \u00d7 53 = 49714.\n",
      "\n",
      "What is the total of all the name scores in the file?"
     ]
    },
    {
     "cell_type": "code",
     "collapsed": false,
     "input": [
      "!wget https://projecteuler.net/project/names.txt"
     ],
     "language": "python",
     "metadata": {},
     "outputs": [
      {
       "output_type": "stream",
       "stream": "stdout",
       "text": [
        "--2014-03-29 16:57:13--  https://projecteuler.net/project/names.txt\r\n",
        "Resolving projecteuler.net (projecteuler.net)... "
       ]
      },
      {
       "output_type": "stream",
       "stream": "stdout",
       "text": [
        "95.142.153.162\r\n",
        "Connecting to projecteuler.net (projecteuler.net)|95.142.153.162|:443... "
       ]
      },
      {
       "output_type": "stream",
       "stream": "stdout",
       "text": [
        "connected.\r\n"
       ]
      },
      {
       "output_type": "stream",
       "stream": "stdout",
       "text": [
        "HTTP request sent, awaiting response... "
       ]
      },
      {
       "output_type": "stream",
       "stream": "stdout",
       "text": [
        "200 OK\r\n",
        "Length: 46447 (45K) [text/plain]\r\n",
        "Saving to: \u2018names.txt\u2019\r\n",
        "\r\n",
        "\r",
        " 0% [                                       ] 0           --.-K/s              "
       ]
      },
      {
       "output_type": "stream",
       "stream": "stdout",
       "text": [
        "\r",
        "61% [=======================>               ] 28.672       116KB/s             \r",
        "100%[======================================>] 46.447       181KB/s   in 0,3s   \r\n",
        "\r\n",
        "2014-03-29 16:57:14 (181 KB/s) - \u2018names.txt\u2019 saved [46447/46447]\r\n",
        "\r\n"
       ]
      }
     ],
     "prompt_number": 3
    },
    {
     "cell_type": "code",
     "collapsed": false,
     "input": [
      "with open('names.txt') as f:\n",
      "    names_one_row = next(f)"
     ],
     "language": "python",
     "metadata": {},
     "outputs": [],
     "prompt_number": 9
    },
    {
     "cell_type": "code",
     "collapsed": false,
     "input": [
      "names = sorted([n.replace('\"','').lower() for n  in names_one_row.split(',')])"
     ],
     "language": "python",
     "metadata": {},
     "outputs": [],
     "prompt_number": 22
    },
    {
     "cell_type": "code",
     "collapsed": false,
     "input": [
      "print(sum( i*sum( ord(c)-96 for c in name) for i, name in enumerate(names, start=1)))"
     ],
     "language": "python",
     "metadata": {},
     "outputs": [
      {
       "output_type": "stream",
       "stream": "stdout",
       "text": [
        "871198282\n"
       ]
      }
     ],
     "prompt_number": 26
    }
   ],
   "metadata": {}
  }
 ]
}