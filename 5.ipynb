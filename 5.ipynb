{
 "metadata": {
  "name": "",
  "signature": "sha256:2a1f71a3cee955aaf5b94bf207cca9ec3730f88640ebc5b53a347f7cb4cb287b"
 },
 "nbformat": 3,
 "nbformat_minor": 0,
 "worksheets": [
  {
   "cells": [
    {
     "cell_type": "markdown",
     "metadata": {},
     "source": [
      "2520 is the smallest number that can be divided by each of the numbers from 1 to 10 without any remainder.\n",
      "\n",
      "What is the smallest positive number that is evenly divisible by all of the numbers from 1 to 20?"
     ]
    },
    {
     "cell_type": "markdown",
     "metadata": {},
     "source": [
      "first we create a function that factorizes an integer:"
     ]
    },
    {
     "cell_type": "code",
     "collapsed": false,
     "input": [
      "def factorize(n):\n",
      "    i = 1\n",
      "    while n != 1:\n",
      "        i += 1\n",
      "        while n % i ==0:\n",
      "            n /= i\n",
      "            yield i"
     ],
     "language": "python",
     "metadata": {},
     "outputs": [],
     "prompt_number": 51
    },
    {
     "cell_type": "markdown",
     "metadata": {},
     "source": [
      "test if it works:"
     ]
    },
    {
     "cell_type": "code",
     "collapsed": false,
     "input": [
      "from collections import Counter\n",
      "c = Counter(factorize(124))\n",
      "print(c)"
     ],
     "language": "python",
     "metadata": {},
     "outputs": [
      {
       "output_type": "stream",
       "stream": "stdout",
       "text": [
        "Counter({2: 2, 31: 1})\n"
       ]
      }
     ],
     "prompt_number": 52
    },
    {
     "cell_type": "markdown",
     "metadata": {},
     "source": [
      "now we factorize for each number, and keep the maximum number of factors:"
     ]
    },
    {
     "cell_type": "code",
     "collapsed": false,
     "input": [
      "all_count = Counter()\n",
      "n = 20\n",
      "for integer in range(2,n):\n",
      "    cur = Counter(factorize(integer))\n",
      "    for factor in cur.keys():\n",
      "        all_count[factor] = max(all_count[factor], cur[factor])\n",
      "\n",
      "print(all_count)"
     ],
     "language": "python",
     "metadata": {},
     "outputs": [
      {
       "output_type": "stream",
       "stream": "stdout",
       "text": [
        "Counter({2: 4, 3: 2, 19: 1, 17: 1, 5: 1, 7: 1, 11: 1, 13: 1})\n"
       ]
      }
     ],
     "prompt_number": 56
    },
    {
     "cell_type": "markdown",
     "metadata": {},
     "source": [
      "finally just multiply it:"
     ]
    },
    {
     "cell_type": "code",
     "collapsed": false,
     "input": [
      "p = 1\n",
      "for i in all_count.keys():\n",
      "    p *= pow(i, all_count[i])\n",
      "print(p)"
     ],
     "language": "python",
     "metadata": {},
     "outputs": [
      {
       "output_type": "stream",
       "stream": "stdout",
       "text": [
        "232792560\n"
       ]
      }
     ],
     "prompt_number": 53
    }
   ],
   "metadata": {}
  }
 ]
}