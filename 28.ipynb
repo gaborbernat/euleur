{
 "metadata": {
  "name": "",
  "signature": "sha256:2b341f03f3005dc11a08e7ea281ea5862503b92736cc48efce5277211cd88796"
 },
 "nbformat": 3,
 "nbformat_minor": 0,
 "worksheets": [
  {
   "cells": [
    {
     "cell_type": "code",
     "collapsed": false,
     "input": [
      "import numpy as np\n",
      "n = 1001"
     ],
     "language": "python",
     "metadata": {},
     "outputs": [],
     "prompt_number": 166
    },
    {
     "cell_type": "code",
     "collapsed": false,
     "input": [
      "a = np.zeros( (n, n), np.int32)\n",
      "x, y = int(n/2), int(n/2)\n",
      "cx, cy =  x, y\n",
      "dire = 0\n",
      "dim = 1\n",
      "for i in range(1,n**2+1):\n",
      "    a[y, x] = i\n",
      "    if dim ** 2 == i :\n",
      "        dim += 1 \n",
      "    if dire == 0: \n",
      "        if x < cx + dim /2:\n",
      "            x += 1\n",
      "        else:\n",
      "            dire = 1\n",
      "            y += 1\n",
      "    elif dire == 1:\n",
      "        if y < cy + dim /2:\n",
      "            y += 1\n",
      "        else:\n",
      "            dire = 2\n",
      "            x -= 1\n",
      "    elif dire == 2:\n",
      "        if x > cx - int(dim/2):\n",
      "            x -= 1\n",
      "        else:\n",
      "            dire = 3\n",
      "            y -= 1\n",
      "    elif dire == 3:\n",
      "        if y > cy - int(dim /2):\n",
      "            y -= 1        \n",
      "        else:\n",
      "            dire = 0\n",
      "            x += 1\n",
      "print(a, '\\nsec=', a[::-1,:].diagonal(), '\\nmain',a.diagonal())\n",
      "print(-1 + sum(a[::-1,:].diagonal()) + sum( a.diagonal()))"
     ],
     "language": "python",
     "metadata": {},
     "outputs": [
      {
       "output_type": "stream",
       "stream": "stdout",
       "text": [
        "[[1001001 1001002 1001003 ..., 1001999 1002000 1002001]\n",
        " [1001000  997003  997004 ...,  998000  998001  998002]\n",
        " [1000999  997002  993013 ...,  994009  994010  998003]\n",
        " ..., \n",
        " [1000003  996006  992017 ...,  991021  995006  998999]\n",
        " [1000002  996005  996004 ...,  995008  995007  999000]\n",
        " [1000001 1000000  999999 ...,  999003  999002  999001]] \n",
        "sec= [1000001  996005  992017 ...,  994009  998001 1002001] \n",
        "main [1001001  997003  993013 ...,  991021  995007  999001]\n",
        "669171001\n"
       ]
      }
     ],
     "prompt_number": 169
    }
   ],
   "metadata": {}
  }
 ]
}