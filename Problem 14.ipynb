{
 "metadata": {
  "name": "",
  "signature": "sha256:11410d004451b229ae7962312456a75c2aab817bf77e0cb575459ec3f4454c09"
 },
 "nbformat": 3,
 "nbformat_minor": 0,
 "worksheets": [
  {
   "cells": [
    {
     "cell_type": "markdown",
     "metadata": {},
     "source": [
      "The following iterative sequence is defined for the set of positive integers:\n",
      "\n",
      "$$n \u2192 n/2$$ (n is even)\n",
      "$$n \u2192 3n + 1$$ (n is odd)\n",
      "\n",
      "Using the rule above and starting with 13, we generate the following sequence:\n",
      "\n",
      "$$13 \u2192 40 \u2192 20 \u2192 10 \u2192 5 \u2192 16 \u2192 8 \u2192 4 \u2192 2 \u2192 1$$\n",
      "It can be seen that this sequence (starting at 13 and finishing at 1) contains 10 terms. Although it has not been proved yet (Collatz Problem), it is thought that all starting numbers finish at 1.\n",
      "\n",
      "Which starting number, under one million, produces the longest chain?\n",
      "\n",
      "NOTE: Once the chain starts the terms are allowed to go above one million."
     ]
    },
    {
     "cell_type": "markdown",
     "metadata": {},
     "source": [
      "We generate the sequence but cache result to make things faster when generating for multiple numbers:"
     ]
    },
    {
     "cell_type": "code",
     "collapsed": false,
     "input": [
      "def collatz(start, cache):\n",
      "    if start is 1:\n",
      "        return 1\n",
      "    nextStart = int(start/2) if start % 2 == 0  else 3 * start + 1\n",
      "    cache[start] = (collatz(nextStart, cache) if nextStart not in cache else cache[nextStart]) + 1\n",
      "    return cache[start]"
     ],
     "language": "python",
     "metadata": {},
     "outputs": [],
     "prompt_number": 7
    },
    {
     "cell_type": "markdown",
     "metadata": {},
     "source": [
      "test if it works on the example:"
     ]
    },
    {
     "cell_type": "code",
     "collapsed": false,
     "input": [
      "c = dict()\n",
      "print( collatz(13,c), c)"
     ],
     "language": "python",
     "metadata": {},
     "outputs": [
      {
       "output_type": "stream",
       "stream": "stdout",
       "text": [
        "10 {16: 5, 40: 9, 2: 2, 4: 3, 5: 6, 8: 4, 20: 8, 10: 7, 13: 10}\n"
       ]
      }
     ],
     "prompt_number": 8
    },
    {
     "cell_type": "markdown",
     "metadata": {},
     "source": [
      "create a function to get the largest for n:"
     ]
    },
    {
     "cell_type": "code",
     "collapsed": false,
     "input": [
      "def largest(n):\n",
      "    cache = dict()\n",
      "    for i in range(2, n):\n",
      "        collatz(i, cache)\n",
      "    k = max(cache, key=cache.get)\n",
      "    print(k, cache[k])"
     ],
     "language": "python",
     "metadata": {},
     "outputs": [],
     "prompt_number": 20
    },
    {
     "cell_type": "markdown",
     "metadata": {},
     "source": [
      "calculate the largest (837799 525)"
     ]
    },
    {
     "cell_type": "code",
     "collapsed": false,
     "input": [
      "largest(1000000)"
     ],
     "language": "python",
     "metadata": {},
     "outputs": [
      {
       "output_type": "stream",
       "stream": "stdout",
       "text": [
        "837799 525\n"
       ]
      }
     ],
     "prompt_number": 17
    },
    {
     "cell_type": "markdown",
     "metadata": {},
     "source": [
      "measure time (2.73s)"
     ]
    },
    {
     "cell_type": "code",
     "collapsed": false,
     "input": [
      "%timeit largest(1000000)"
     ],
     "language": "python",
     "metadata": {},
     "outputs": [
      {
       "output_type": "stream",
       "stream": "stdout",
       "text": [
        "837799 525\n",
        "837799"
       ]
      },
      {
       "output_type": "stream",
       "stream": "stdout",
       "text": [
        " 525\n",
        "837799"
       ]
      },
      {
       "output_type": "stream",
       "stream": "stdout",
       "text": [
        " 525\n",
        "837799"
       ]
      },
      {
       "output_type": "stream",
       "stream": "stdout",
       "text": [
        " 525\n",
        "1 loops, best of 3: 2.73 s per loop"
       ]
      },
      {
       "output_type": "stream",
       "stream": "stdout",
       "text": [
        "\n"
       ]
      }
     ],
     "prompt_number": 18
    }
   ],
   "metadata": {}
  }
 ]
}