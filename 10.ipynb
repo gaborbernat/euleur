{
 "metadata": {
  "name": "",
  "signature": "sha256:1a3b14d8e2adaa830210d651d940968cda5080c07fd1277d0473b96fdaf82193"
 },
 "nbformat": 3,
 "nbformat_minor": 0,
 "worksheets": [
  {
   "cells": [
    {
     "cell_type": "markdown",
     "metadata": {},
     "source": [
      "The sum of the primes below 10 is $$2 + 3 + 5 + 7 = 17.$$\n",
      "\n",
      "Find the sum of all the primes below two million."
     ]
    },
    {
     "cell_type": "code",
     "collapsed": false,
     "input": [
      "def primes_below(n):\n",
      "    from math import sqrt\n",
      "    from bisect import bisect_right\n",
      "    primes = [2]\n",
      "    i = 3\n",
      "\n",
      "    while i < n:\n",
      "        ok = True\n",
      "        for p in primes[:bisect_right(primes, sqrt(i))]:\n",
      "            if i % p == 0:\n",
      "                ok = False\n",
      "                break\n",
      "        if ok:\n",
      "            primes.append(i)\n",
      "            yield i \n",
      "        i += 1\n",
      "    return primes"
     ],
     "language": "python",
     "metadata": {},
     "outputs": [],
     "prompt_number": 3
    },
    {
     "cell_type": "code",
     "collapsed": false,
     "input": [
      "sum(primes_below(2*10**6))"
     ],
     "language": "python",
     "metadata": {},
     "outputs": [
      {
       "metadata": {},
       "output_type": "pyout",
       "prompt_number": 9,
       "text": [
        "142913828922"
       ]
      }
     ],
     "prompt_number": 9
    },
    {
     "cell_type": "code",
     "collapsed": false,
     "input": [
      "%timeit sum(primes_below(2*10**6))"
     ],
     "language": "python",
     "metadata": {},
     "outputs": [
      {
       "output_type": "stream",
       "stream": "stdout",
       "text": [
        "1 loops, best of 3: 8.22 s per loop\n"
       ]
      }
     ],
     "prompt_number": 10
    }
   ],
   "metadata": {}
  }
 ]
}