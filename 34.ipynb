{
 "cells": [
  {
   "cell_type": "markdown",
   "metadata": {},
   "source": [
    "$145$ is a curious number, as $1! + 4! + 5! = 1 + 24 + 120 = 145$.\n",
    "\n",
    "Find the sum of all numbers which are equal to the sum of the factorial of their digits.\n",
    "\n",
    "Note: as $1! = 1$ and $2! = 2$ are not sums they are not included."
   ]
  },
  {
   "cell_type": "code",
   "execution_count": 1,
   "metadata": {
    "collapsed": false
   },
   "outputs": [
    {
     "name": "stdout",
     "output_type": "stream",
     "text": [
      "0 1\n",
      "1 1\n",
      "2 2\n",
      "3 6\n",
      "4 24\n",
      "5 120\n",
      "6 720\n",
      "7 5040\n",
      "8 40320\n",
      "9 362880\n"
     ]
    }
   ],
   "source": [
    "for i=0:9\n",
    "    println(i, \" \",factorial(i))\n",
    "end"
   ]
  },
  {
   "cell_type": "code",
   "execution_count": 7,
   "metadata": {
    "collapsed": false
   },
   "outputs": [
    {
     "name": "stdout",
     "output_type": "stream",
     "text": [
      "  0.012744 seconds (17.55 k allocations: 1.286 MB)\n"
     ]
    },
    {
     "data": {
      "text/plain": [
       "14-element Array{Any,1}:\n",
       " RemoteRef{Channel{Any}}(13,1,26)\n",
       " RemoteRef{Channel{Any}}(14,1,27)\n",
       " RemoteRef{Channel{Any}}(15,1,28)\n",
       " RemoteRef{Channel{Any}}(2,1,29) \n",
       " RemoteRef{Channel{Any}}(3,1,30) \n",
       " RemoteRef{Channel{Any}}(4,1,31) \n",
       " RemoteRef{Channel{Any}}(5,1,32) \n",
       " RemoteRef{Channel{Any}}(6,1,33) \n",
       " RemoteRef{Channel{Any}}(7,1,34) \n",
       " RemoteRef{Channel{Any}}(8,1,35) \n",
       " RemoteRef{Channel{Any}}(9,1,36) \n",
       " RemoteRef{Channel{Any}}(10,1,37)\n",
       " RemoteRef{Channel{Any}}(11,1,38)\n",
       " RemoteRef{Channel{Any}}(12,1,39)"
      ]
     },
     "execution_count": 7,
     "metadata": {},
     "output_type": "execute_result"
    },
    {
     "name": "stdout",
     "output_type": "stream",
     "text": [
      "\tFrom worker 13:\tx -> 145\n",
      "\tFrom worker 13:\tx -> 40585\n"
     ]
    }
   ],
   "source": [
    "addprocs(7)\n",
    "function brute(m)\n",
    "    @parallel for i=10:m\n",
    "        s = 0\n",
    "        n = i\n",
    "        while i != 0\n",
    "            s += factorial(mod(i, 10))\n",
    "            i = div(i, 10)\n",
    "        end\n",
    "        if s == n\n",
    "            println(\"x -> \", s)\n",
    "        end\n",
    "    end\n",
    "end\n",
    "@time brute(9999999)"
   ]
  },
  {
   "cell_type": "code",
   "execution_count": null,
   "metadata": {
    "collapsed": false
   },
   "outputs": [],
   "source": [
    "vcat([1, 2], [3, 4])"
   ]
  },
  {
   "cell_type": "code",
   "execution_count": 8,
   "metadata": {
    "collapsed": false
   },
   "outputs": [
    {
     "data": {
      "text/plain": [
       "40730"
      ]
     },
     "execution_count": 8,
     "metadata": {},
     "output_type": "execute_result"
    }
   ],
   "source": [
    "145+40585"
   ]
  },
  {
   "cell_type": "code",
   "execution_count": null,
   "metadata": {
    "collapsed": true
   },
   "outputs": [],
   "source": []
  }
 ],
 "metadata": {
  "kernelspec": {
   "display_name": "Julia 0.4.6",
   "language": "julia",
   "name": "julia-0.4"
  },
  "language_info": {
   "file_extension": ".jl",
   "mimetype": "application/julia",
   "name": "julia",
   "version": "0.4.6"
  }
 },
 "nbformat": 4,
 "nbformat_minor": 0
}
