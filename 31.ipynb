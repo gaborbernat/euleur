{
 "metadata": {
  "name": "",
  "signature": "sha256:f3e3ac309f82615f8d7fb7819552b945c0e94c8617f4600ea9e6f7dee248d4ad"
 },
 "nbformat": 3,
 "nbformat_minor": 0,
 "worksheets": [
  {
   "cells": [
    {
     "cell_type": "code",
     "collapsed": false,
     "input": [
      "coins = [1, 2, 5, 10, 20, 50, 100, 200]\n",
      "sum_ = 5\n",
      "debug = True\n",
      "counts = [0] * (sum_ + 1)\n",
      "counts[0] = 1\n",
      "\n",
      "for coin in coins:\n",
      "    for i in range(coin, sum_ + 1):\n",
      "            if debug is True:\n",
      "                print('coin {} at {} with sum {} , add {}'.format(coin, i,  counts[i], counts[i-coin]))\n",
      "            counts[i] += counts[i - coin]\n",
      "    if debug:\n",
      "        print('')\n",
      "\n",
      "if debug is True:\n",
      "    print(counts)\n",
      "else:\n",
      "    print(counts[-1])"
     ],
     "language": "python",
     "metadata": {},
     "outputs": [
      {
       "output_type": "stream",
       "stream": "stdout",
       "text": [
        "coin 1 at 1 with sum 0 , add 1\n",
        "coin 1 at 2 with sum 0 , add 1\n",
        "coin 1 at 3 with sum 0 , add 1\n",
        "coin 1 at 4 with sum 0 , add 1\n",
        "coin 1 at 5 with sum 0 , add 1\n",
        "\n",
        "coin 2 at 2 with sum 1 , add 1\n",
        "coin 2 at 3 with sum 1 , add 1\n",
        "coin 2 at 4 with sum 1 , add 2\n",
        "coin 2 at 5 with sum 1 , add 2\n",
        "\n",
        "coin 5 at 5 with sum 3 , add 1\n",
        "\n",
        "\n",
        "\n",
        "\n",
        "\n",
        "\n",
        "[1, 1, 2, 2, 3, 4]\n"
       ]
      }
     ],
     "prompt_number": 12
    },
    {
     "cell_type": "code",
     "collapsed": false,
     "input": [],
     "language": "python",
     "metadata": {},
     "outputs": []
    }
   ],
   "metadata": {}
  }
 ]
}