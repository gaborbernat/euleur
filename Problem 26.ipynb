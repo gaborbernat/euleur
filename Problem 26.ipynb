{
 "metadata": {
  "name": "",
  "signature": "sha256:e19feefbb34c49c5260babffa433e44f619994b3aa9ef2df41816638d1e174e9"
 },
 "nbformat": 3,
 "nbformat_minor": 0,
 "worksheets": [
  {
   "cells": [
    {
     "cell_type": "markdown",
     "metadata": {},
     "source": [
      "Reciprocal divisors"
     ]
    },
    {
     "cell_type": "code",
     "collapsed": false,
     "input": [
      "def one_per_x(n):\n",
      "    r, f, m = [], [], 1\n",
      "    while m not in f:\n",
      "        f.append(m)\n",
      "        m *= 10\n",
      "        r.append(int(m/n))\n",
      "        m %= n\n",
      "    return ''.join(str(i) for i in r[f.index(m):])"
     ],
     "language": "python",
     "metadata": {},
     "outputs": [],
     "prompt_number": 33
    },
    {
     "cell_type": "code",
     "collapsed": false,
     "input": [
      "one_per_x(7)"
     ],
     "language": "python",
     "metadata": {},
     "outputs": [
      {
       "metadata": {},
       "output_type": "pyout",
       "prompt_number": 34,
       "text": [
        "'142857'"
       ]
      }
     ],
     "prompt_number": 34
    },
    {
     "cell_type": "code",
     "collapsed": false,
     "input": [
      "def max_range(f, t):\n",
      "    from operator import itemgetter\n",
      "    return max( ( (x, len(one_per_x(x))) for x in range(f, t) ), key=itemgetter(1))"
     ],
     "language": "python",
     "metadata": {},
     "outputs": [],
     "prompt_number": 44
    },
    {
     "cell_type": "code",
     "collapsed": false,
     "input": [
      "max_range(2, 1000)"
     ],
     "language": "python",
     "metadata": {},
     "outputs": [
      {
       "metadata": {},
       "output_type": "pyout",
       "prompt_number": 45,
       "text": [
        "(983, 982)"
       ]
      }
     ],
     "prompt_number": 45
    },
    {
     "cell_type": "code",
     "collapsed": false,
     "input": [
      "%timeit max_range(2, 1000)"
     ],
     "language": "python",
     "metadata": {},
     "outputs": [
      {
       "output_type": "stream",
       "stream": "stdout",
       "text": [
        "1 loops, best of 3: 396 ms per loop\n"
       ]
      }
     ],
     "prompt_number": 46
    },
    {
     "cell_type": "code",
     "collapsed": false,
     "input": [],
     "language": "python",
     "metadata": {},
     "outputs": []
    }
   ],
   "metadata": {}
  }
 ]
}