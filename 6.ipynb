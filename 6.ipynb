{
 "metadata": {
  "name": "",
  "signature": "sha256:e5727db8ddefddc079315fc0e3f9ef96c4f501ddd7e1ba78b0cd3aeec890f436"
 },
 "nbformat": 3,
 "nbformat_minor": 0,
 "worksheets": [
  {
   "cells": [
    {
     "cell_type": "markdown",
     "metadata": {},
     "source": [
      "The sum of the squares of the first ten natural numbers is,\n",
      "\n",
      "$$1^2 + 2^2 + ... + 10^2 = 385$$\n",
      "The square of the sum of the first ten natural numbers is,\n",
      "\n",
      "$$(1 + 2 + ... + 10)^2 = 55^2 = 3025$$\n",
      "Hence the difference between the sum of the squares of the first ten natural numbers and the square of the sum is $$3025 \u2212 385 = 2640$$.\n",
      "\n",
      "Find the difference between the sum of the squares of the first one hundred natural numbers and the square of the sum."
     ]
    },
    {
     "cell_type": "markdown",
     "metadata": {},
     "source": [
      "For summing the first n numbers the formula is simple:\n",
      "$$ sum(1+2+...+n)=\\frac{n*(n+1)}{2}$$"
     ]
    },
    {
     "cell_type": "code",
     "collapsed": false,
     "input": [
      "def sum_first_n(n):\n",
      "    return n*(n+1)/2"
     ],
     "language": "python",
     "metadata": {},
     "outputs": [],
     "prompt_number": 2
    },
    {
     "cell_type": "markdown",
     "metadata": {},
     "source": [
      "now the square of the items is again provable by induction that it is:\n",
      "$$sum(1^2+2^2+..+n^2)= \\frac{n(n+1)(2n+1)}{6}$$"
     ]
    },
    {
     "cell_type": "code",
     "collapsed": false,
     "input": [
      "def sum_square_first_n(n):\n",
      "    return n*(n+1)*(2*n+1)/6"
     ],
     "language": "python",
     "metadata": {},
     "outputs": [],
     "prompt_number": 4
    },
    {
     "cell_type": "markdown",
     "metadata": {},
     "source": [
      "so the answer is:"
     ]
    },
    {
     "cell_type": "code",
     "collapsed": false,
     "input": [
      "n = 100\n",
      "print(int(pow(sum_first_n(n),2) - sum_square_first_n(n)))"
     ],
     "language": "python",
     "metadata": {},
     "outputs": [
      {
       "output_type": "stream",
       "stream": "stdout",
       "text": [
        "25164150\n"
       ]
      }
     ],
     "prompt_number": 7
    }
   ],
   "metadata": {}
  }
 ]
}