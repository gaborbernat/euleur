{
 "metadata": {
  "name": "",
  "signature": "sha256:f1bc87179163ef1220556bf76e2f1defb5dd363dcd80b07b0b688de29bfb6d99"
 },
 "nbformat": 3,
 "nbformat_minor": 0,
 "worksheets": [
  {
   "cells": [
    {
     "cell_type": "markdown",
     "metadata": {},
     "source": [
      "A perfect number is a number for which the sum of its proper divisors is exactly equal to the number. For example, the sum of the proper divisors of 28 would be $$1 + 2 + 4 + 7 + 14 = 28,$$ which means that 28 is a perfect number.\n",
      "\n",
      "A number n is called deficient if the sum of its proper divisors is less than n and it is called abundant if this sum exceeds n.\n",
      "\n",
      "As 12 is the smallest abundant number, $$1 + 2 + 3 + 4 + 6 = 16,$$ the smallest number that can be written as the sum of two abundant numbers is 24. By mathematical analysis, it can be shown that all integers greater than 28123 can be written as the sum of two abundant numbers. However, this upper limit cannot be reduced any further by analysis even though it is known that the greatest number that cannot be expressed as the sum of two abundant numbers is less than this limit.\n",
      "\n",
      "Find the sum of all the positive integers which cannot be written as the sum of two abundant numbers."
     ]
    },
    {
     "cell_type": "markdown",
     "metadata": {},
     "source": [
      "First we generate prime number to get the divisors for a number:"
     ]
    },
    {
     "cell_type": "code",
     "collapsed": false,
     "input": [
      "n = int(28123)\n",
      "import pyprimes\n",
      "p = list(pyprimes.primes_below(n/2))"
     ],
     "language": "python",
     "metadata": {},
     "outputs": [],
     "prompt_number": 1
    },
    {
     "cell_type": "markdown",
     "metadata": {},
     "source": [
      "Write a function to factorize a number:"
     ]
    },
    {
     "cell_type": "code",
     "collapsed": false,
     "input": [
      "from bisect import bisect_left\n",
      "from collections import Counter\n",
      "def divisors(m):\n",
      "    counter = Counter()\n",
      "    for d in p[:bisect_left(p, m/2)]:\n",
      "        while not m%d:\n",
      "            counter[d] += 1\n",
      "            m = m/d\n",
      "    return(counter)"
     ],
     "language": "python",
     "metadata": {},
     "outputs": [],
     "prompt_number": 2
    },
    {
     "cell_type": "markdown",
     "metadata": {},
     "source": [
      "function to get the product of the divisors:"
     ]
    },
    {
     "cell_type": "code",
     "collapsed": false,
     "input": [
      "from numpy import prod\n",
      "from itertools import combinations\n",
      "from itertools import chain\n",
      "def d(m):\n",
      "    d = divisors(m)\n",
      "    return sum(set(chain.from_iterable( (prod(i) for i in combinations(d.elements(), k)) for k in range(1, sum(d.values())))))+1"
     ],
     "language": "python",
     "metadata": {},
     "outputs": [],
     "prompt_number": 3
    },
    {
     "cell_type": "markdown",
     "metadata": {},
     "source": [
      "generate all products for numbers less than n:"
     ]
    },
    {
     "cell_type": "code",
     "collapsed": false,
     "input": [
      "import frogress\n",
      "a = dict()\n",
      "for i in frogress.Bar(range(1, n), steps=n):\n",
      "     a[i] = d(i)"
     ],
     "language": "python",
     "metadata": {},
     "outputs": [
      {
       "output_type": "stream",
       "stream": "stdout",
       "text": [
        "\r",
        "  0.0% | [..........] | Progress: 1 / 28123 | Time: 0.0s | ETA: 5.6s"
       ]
      },
      {
       "output_type": "stream",
       "stream": "stdout",
       "text": [
        "\r",
        "  0.7% | [..........] | Progress: 201 / 28123 | Time: 0.1s | ETA: 7.0s"
       ]
      },
      {
       "output_type": "stream",
       "stream": "stdout",
       "text": [
        "\r",
        "  1.4% | [..........] | Progress: 386 / 28123 | Time: 0.1s | ETA: 7.2s"
       ]
      },
      {
       "output_type": "stream",
       "stream": "stdout",
       "text": [
        "\r",
        "  2.0% | [..........] | Progress: 556 / 28123 | Time: 0.2s | ETA: 7.5s"
       ]
      },
      {
       "output_type": "stream",
       "stream": "stdout",
       "text": [
        "\r",
        "  2.5% | [..........] | Progress: 705 / 28123 | Time: 0.2s | ETA: 7.8s"
       ]
      },
      {
       "output_type": "stream",
       "stream": "stdout",
       "text": [
        "\r",
        "  3.0% | [..........] | Progress: 849 / 28123 | Time: 0.3s | ETA: 8.1s"
       ]
      },
      {
       "output_type": "stream",
       "stream": "stdout",
       "text": [
        "\r",
        "  3.6% | [..........] | Progress: 1009 / 28123 | Time: 0.3s | ETA: 8.1s"
       ]
      },
      {
       "output_type": "stream",
       "stream": "stdout",
       "text": [
        "\r",
        "  4.0% | [..........] | Progress: 1133 / 28123 | Time: 0.4s | ETA: 8.4s"
       ]
      },
      {
       "output_type": "stream",
       "stream": "stdout",
       "text": [
        "\r",
        "  4.6% | [..........] | Progress: 1281 / 28123 | Time: 0.4s | ETA: 8.5s"
       ]
      },
      {
       "output_type": "stream",
       "stream": "stdout",
       "text": [
        "\r",
        "  5.1% | [..........] | Progress: 1441 / 28123 | Time: 0.5s | ETA: 8.5s"
       ]
      },
      {
       "output_type": "stream",
       "stream": "stdout",
       "text": [
        "\r",
        "  5.6% | [..........] | Progress: 1561 / 28123 | Time: 0.5s | ETA: 8.7s"
       ]
      },
      {
       "output_type": "stream",
       "stream": "stdout",
       "text": [
        "\r",
        "  6.1% | [..........] | Progress: 1709 / 28123 | Time: 0.6s | ETA: 8.7s"
       ]
      },
      {
       "output_type": "stream",
       "stream": "stdout",
       "text": [
        "\r",
        "  6.5% | [..........] | Progress: 1830 / 28123 | Time: 0.6s | ETA: 8.8s"
       ]
      },
      {
       "output_type": "stream",
       "stream": "stdout",
       "text": [
        "\r",
        "  6.8% | [..........] | Progress: 1921 / 28123 | Time: 0.7s | ETA: 9.1s"
       ]
      },
      {
       "output_type": "stream",
       "stream": "stdout",
       "text": [
        "\r",
        "  7.3% | [..........] | Progress: 2049 / 28123 | Time: 0.7s | ETA: 9.5s"
       ]
      },
      {
       "output_type": "stream",
       "stream": "stdout",
       "text": [
        "\r",
        "  7.8% | [..........] | Progress: 2197 / 28123 | Time: 0.8s | ETA: 9.4s"
       ]
      },
      {
       "output_type": "stream",
       "stream": "stdout",
       "text": [
        "\r",
        "  8.2% | [..........] | Progress: 2311 / 28123 | Time: 0.8s | ETA: 9.4s"
       ]
      },
      {
       "output_type": "stream",
       "stream": "stdout",
       "text": [
        "\r",
        "  8.8% | [..........] | Progress: 2465 / 28123 | Time: 0.9s | ETA: 9.3s"
       ]
      },
      {
       "output_type": "stream",
       "stream": "stdout",
       "text": [
        "\r",
        "  9.2% | [..........] | Progress: 2577 / 28123 | Time: 0.9s | ETA: 9.4s"
       ]
      },
      {
       "output_type": "stream",
       "stream": "stdout",
       "text": [
        "\r",
        "  9.4% | [..........] | Progress: 2641 / 28123 | Time: 1.0s | ETA: 9.6s"
       ]
      },
      {
       "output_type": "stream",
       "stream": "stdout",
       "text": [
        "\r",
        "  9.9% | [..........] | Progress: 2773 / 28123 | Time: 1.0s | ETA: 9.6s"
       ]
      },
      {
       "output_type": "stream",
       "stream": "stdout",
       "text": [
        "\r",
        " 10.3% | [#.........] | Progress: 2897 / 28123 | Time: 1.1s | ETA: 9.6s"
       ]
      },
      {
       "output_type": "stream",
       "stream": "stdout",
       "text": [
        "\r",
        " 10.8% | [#.........] | Progress: 3025 / 28123 | Time: 1.1s | ETA: 9.5s"
       ]
      },
      {
       "output_type": "stream",
       "stream": "stdout",
       "text": [
        "\r",
        " 11.0% | [#.........] | Progress: 3083 / 28123 | Time: 1.2s | ETA: 9.7s"
       ]
      },
      {
       "output_type": "stream",
       "stream": "stdout",
       "text": [
        "\r",
        " 11.4% | [#.........] | Progress: 3217 / 28123 | Time: 1.2s | ETA: 9.7s"
       ]
      },
      {
       "output_type": "stream",
       "stream": "stdout",
       "text": [
        "\r",
        " 11.9% | [#.........] | Progress: 3348 / 28123 | Time: 1.3s | ETA: 9.6s"
       ]
      },
      {
       "output_type": "stream",
       "stream": "stdout",
       "text": [
        "\r",
        " 12.3% | [#.........] | Progress: 3457 / 28123 | Time: 1.3s | ETA: 9.6s"
       ]
      },
      {
       "output_type": "stream",
       "stream": "stdout",
       "text": [
        "\r",
        " 12.7% | [#.........] | Progress: 3585 / 28123 | Time: 1.4s | ETA: 9.6s"
       ]
      },
      {
       "output_type": "stream",
       "stream": "stdout",
       "text": [
        "\r",
        " 13.0% | [#.........] | Progress: 3661 / 28123 | Time: 1.5s | ETA: 9.7s"
       ]
      },
      {
       "output_type": "stream",
       "stream": "stdout",
       "text": [
        "\r",
        " 13.5% | [#.........] | Progress: 3793 / 28123 | Time: 1.5s | ETA: 9.7s"
       ]
      },
      {
       "output_type": "stream",
       "stream": "stdout",
       "text": [
        "\r",
        " 13.8% | [#.........] | Progress: 3889 / 28123 | Time: 1.6s | ETA: 9.7s"
       ]
      },
      {
       "output_type": "stream",
       "stream": "stdout",
       "text": [
        "\r",
        " 14.3% | [#.........] | Progress: 4024 / 28123 | Time: 1.6s | ETA: 9.7s"
       ]
      },
      {
       "output_type": "stream",
       "stream": "stdout",
       "text": [
        "\r",
        " 14.6% | [#.........] | Progress: 4097 / 28123 | Time: 1.7s | ETA: 10.0s"
       ]
      },
      {
       "output_type": "stream",
       "stream": "stdout",
       "text": [
        "\r",
        " 15.0% | [#.........] | Progress: 4225 / 28123 | Time: 1.8s | ETA: 9.9s"
       ]
      },
      {
       "output_type": "stream",
       "stream": "stdout",
       "text": [
        "\r",
        " 15.4% | [#.........] | Progress: 4321 / 28123 | Time: 1.8s | ETA: 9.9s"
       ]
      },
      {
       "output_type": "stream",
       "stream": "stdout",
       "text": [
        "\r",
        " 15.8% | [#.........] | Progress: 4442 / 28123 | Time: 1.9s | ETA: 9.9s"
       ]
      },
      {
       "output_type": "stream",
       "stream": "stdout",
       "text": [
        "\r",
        " 16.2% | [#.........] | Progress: 4567 / 28123 | Time: 1.9s | ETA: 9.8s"
       ]
      },
      {
       "output_type": "stream",
       "stream": "stdout",
       "text": [
        "\r",
        " 16.5% | [#.........] | Progress: 4630 / 28123 | Time: 2.0s | ETA: 9.9s"
       ]
      },
      {
       "output_type": "stream",
       "stream": "stdout",
       "text": [
        "\r",
        " 16.9% | [#.........] | Progress: 4764 / 28123 | Time: 2.0s | ETA: 9.8s"
       ]
      },
      {
       "output_type": "stream",
       "stream": "stdout",
       "text": [
        "\r",
        " 17.3% | [#.........] | Progress: 4877 / 28123 | Time: 2.1s | ETA: 9.8s"
       ]
      },
      {
       "output_type": "stream",
       "stream": "stdout",
       "text": [
        "\r",
        " 17.8% | [#.........] | Progress: 4998 / 28123 | Time: 2.1s | ETA: 9.7s"
       ]
      },
      {
       "output_type": "stream",
       "stream": "stdout",
       "text": [
        "\r",
        " 18.1% | [#.........] | Progress: 5077 / 28123 | Time: 2.2s | ETA: 9.8s"
       ]
      },
      {
       "output_type": "stream",
       "stream": "stdout",
       "text": [
        "\r",
        " 18.2% | [#.........] | Progress: 5121 / 28123 | Time: 2.2s | ETA: 9.9s"
       ]
      },
      {
       "output_type": "stream",
       "stream": "stdout",
       "text": [
        "\r",
        " 18.6% | [#.........] | Progress: 5235 / 28123 | Time: 2.3s | ETA: 9.9s"
       ]
      },
      {
       "output_type": "stream",
       "stream": "stdout",
       "text": [
        "\r",
        " 19.1% | [#.........] | Progress: 5367 / 28123 | Time: 2.3s | ETA: 9.8s"
       ]
      },
      {
       "output_type": "stream",
       "stream": "stdout",
       "text": [
        "\r",
        " 19.4% | [#.........] | Progress: 5461 / 28123 | Time: 2.4s | ETA: 9.8s"
       ]
      },
      {
       "output_type": "stream",
       "stream": "stdout",
       "text": [
        "\r",
        " 19.8% | [#.........] | Progress: 5577 / 28123 | Time: 2.4s | ETA: 9.8s"
       ]
      },
      {
       "output_type": "stream",
       "stream": "stdout",
       "text": [
        "\r",
        " 20.1% | [##........] | Progress: 5641 / 28123 | Time: 2.5s | ETA: 9.8s"
       ]
      },
      {
       "output_type": "stream",
       "stream": "stdout",
       "text": [
        "\r",
        " 20.4% | [##........] | Progress: 5743 / 28123 | Time: 2.5s | ETA: 9.8s"
       ]
      },
      {
       "output_type": "stream",
       "stream": "stdout",
       "text": [
        "\r",
        " 20.7% | [##........] | Progress: 5833 / 28123 | Time: 2.6s | ETA: 9.8s"
       ]
      },
      {
       "output_type": "stream",
       "stream": "stdout",
       "text": [
        "\r",
        " 21.2% | [##........] | Progress: 5953 / 28123 | Time: 2.6s | ETA: 9.8s"
       ]
      },
      {
       "output_type": "stream",
       "stream": "stdout",
       "text": [
        "\r",
        " 21.6% | [##........] | Progress: 6076 / 28123 | Time: 2.7s | ETA: 9.7s"
       ]
      },
      {
       "output_type": "stream",
       "stream": "stdout",
       "text": [
        "\r",
        " 21.9% | [##........] | Progress: 6145 / 28123 | Time: 2.8s | ETA: 9.9s"
       ]
      },
      {
       "output_type": "stream",
       "stream": "stdout",
       "text": [
        "\r",
        " 22.3% | [##........] | Progress: 6273 / 28123 | Time: 2.8s | ETA: 9.8s"
       ]
      },
      {
       "output_type": "stream",
       "stream": "stdout",
       "text": [
        "\r",
        " 22.8% | [##........] | Progress: 6401 / 28123 | Time: 2.9s | ETA: 9.8s"
       ]
      },
      {
       "output_type": "stream",
       "stream": "stdout",
       "text": [
        "\r",
        " 23.0% | [##........] | Progress: 6481 / 28123 | Time: 2.9s | ETA: 9.8s"
       ]
      },
      {
       "output_type": "stream",
       "stream": "stdout",
       "text": [
        "\r",
        " 23.3% | [##........] | Progress: 6557 / 28123 | Time: 3.0s | ETA: 9.8s"
       ]
      },
      {
       "output_type": "stream",
       "stream": "stdout",
       "text": [
        "\r",
        " 23.7% | [##........] | Progress: 6657 / 28123 | Time: 3.0s | ETA: 9.8s"
       ]
      },
      {
       "output_type": "stream",
       "stream": "stdout",
       "text": [
        "\r",
        " 24.1% | [##........] | Progress: 6772 / 28123 | Time: 3.1s | ETA: 9.7s"
       ]
      },
      {
       "output_type": "stream",
       "stream": "stdout",
       "text": [
        "\r",
        " 24.4% | [##........] | Progress: 6876 / 28123 | Time: 3.1s | ETA: 9.7s"
       ]
      },
      {
       "output_type": "stream",
       "stream": "stdout",
       "text": [
        "\r",
        " 24.6% | [##........] | Progress: 6930 / 28123 | Time: 3.2s | ETA: 9.7s"
       ]
      },
      {
       "output_type": "stream",
       "stream": "stdout",
       "text": [
        "\r",
        " 25.0% | [##........] | Progress: 7041 / 28123 | Time: 3.2s | ETA: 9.7s"
       ]
      },
      {
       "output_type": "stream",
       "stream": "stdout",
       "text": [
        "\r",
        " 25.3% | [##........] | Progress: 7121 / 28123 | Time: 3.3s | ETA: 9.7s"
       ]
      },
      {
       "output_type": "stream",
       "stream": "stdout",
       "text": [
        "\r",
        " 25.5% | [##........] | Progress: 7169 / 28123 | Time: 3.3s | ETA: 9.8s"
       ]
      },
      {
       "output_type": "stream",
       "stream": "stdout",
       "text": [
        "\r",
        " 25.9% | [##........] | Progress: 7288 / 28123 | Time: 3.4s | ETA: 9.7s"
       ]
      },
      {
       "output_type": "stream",
       "stream": "stdout",
       "text": [
        "\r",
        " 26.3% | [##........] | Progress: 7389 / 28123 | Time: 3.4s | ETA: 9.7s"
       ]
      },
      {
       "output_type": "stream",
       "stream": "stdout",
       "text": [
        "\r",
        " 26.6% | [##........] | Progress: 7489 / 28123 | Time: 3.5s | ETA: 9.6s"
       ]
      },
      {
       "output_type": "stream",
       "stream": "stdout",
       "text": [
        "\r",
        " 27.1% | [##........] | Progress: 7615 / 28123 | Time: 3.5s | ETA: 9.5s"
       ]
      },
      {
       "output_type": "stream",
       "stream": "stdout",
       "text": [
        "\r",
        " 27.3% | [##........] | Progress: 7681 / 28123 | Time: 3.6s | ETA: 9.6s"
       ]
      },
      {
       "output_type": "stream",
       "stream": "stdout",
       "text": [
        "\r",
        " 27.7% | [##........] | Progress: 7777 / 28123 | Time: 3.7s | ETA: 9.6s"
       ]
      },
      {
       "output_type": "stream",
       "stream": "stdout",
       "text": [
        "\r",
        " 27.9% | [##........] | Progress: 7844 / 28123 | Time: 3.7s | ETA: 9.6s"
       ]
      },
      {
       "output_type": "stream",
       "stream": "stdout",
       "text": [
        "\r",
        " 28.2% | [##........] | Progress: 7939 / 28123 | Time: 3.8s | ETA: 9.6s"
       ]
      },
      {
       "output_type": "stream",
       "stream": "stdout",
       "text": [
        "\r",
        " 28.6% | [##........] | Progress: 8051 / 28123 | Time: 3.8s | ETA: 9.5s"
       ]
      },
      {
       "output_type": "stream",
       "stream": "stdout",
       "text": [
        "\r",
        " 28.9% | [##........] | Progress: 8137 / 28123 | Time: 3.9s | ETA: 9.5s"
       ]
      },
      {
       "output_type": "stream",
       "stream": "stdout",
       "text": [
        "\r",
        " 29.1% | [##........] | Progress: 8193 / 28123 | Time: 4.0s | ETA: 9.7s"
       ]
      },
      {
       "output_type": "stream",
       "stream": "stdout",
       "text": [
        "\r",
        " 29.6% | [##........] | Progress: 8317 / 28123 | Time: 4.1s | ETA: 9.7s"
       ]
      },
      {
       "output_type": "stream",
       "stream": "stdout",
       "text": [
        "\r",
        " 30.0% | [##........] | Progress: 8425 / 28123 | Time: 4.1s | ETA: 9.6s"
       ]
      },
      {
       "output_type": "stream",
       "stream": "stdout",
       "text": [
        "\r",
        " 30.2% | [###.......] | Progress: 8498 / 28123 | Time: 4.2s | ETA: 9.6s"
       ]
      },
      {
       "output_type": "stream",
       "stream": "stdout",
       "text": [
        "\r",
        " 30.5% | [###.......] | Progress: 8590 / 28123 | Time: 4.2s | ETA: 9.6s"
       ]
      },
      {
       "output_type": "stream",
       "stream": "stdout",
       "text": [
        "\r",
        " 30.9% | [###.......] | Progress: 8691 / 28123 | Time: 4.3s | ETA: 9.5s"
       ]
      },
      {
       "output_type": "stream",
       "stream": "stdout",
       "text": [
        "\r",
        " 31.1% | [###.......] | Progress: 8749 / 28123 | Time: 4.3s | ETA: 9.5s"
       ]
      },
      {
       "output_type": "stream",
       "stream": "stdout",
       "text": [
        "\r",
        " 31.5% | [###.......] | Progress: 8851 / 28123 | Time: 4.4s | ETA: 9.5s"
       ]
      },
      {
       "output_type": "stream",
       "stream": "stdout",
       "text": [
        "\r",
        " 31.9% | [###.......] | Progress: 8961 / 28123 | Time: 4.4s | ETA: 9.4s"
       ]
      },
      {
       "output_type": "stream",
       "stream": "stdout",
       "text": [
        "\r",
        " 32.2% | [###.......] | Progress: 9053 / 28123 | Time: 4.5s | ETA: 9.4s"
       ]
      },
      {
       "output_type": "stream",
       "stream": "stdout",
       "text": [
        "\r",
        " 32.4% | [###.......] | Progress: 9121 / 28123 | Time: 4.5s | ETA: 9.4s"
       ]
      },
      {
       "output_type": "stream",
       "stream": "stdout",
       "text": [
        "\r",
        " 32.8% | [###.......] | Progress: 9217 / 28123 | Time: 4.6s | ETA: 9.5s"
       ]
      },
      {
       "output_type": "stream",
       "stream": "stdout",
       "text": [
        "\r",
        " 33.2% | [###.......] | Progress: 9344 / 28123 | Time: 4.7s | ETA: 9.4s"
       ]
      },
      {
       "output_type": "stream",
       "stream": "stdout",
       "text": [
        "\r",
        " 33.6% | [###.......] | Progress: 9449 / 28123 | Time: 4.7s | ETA: 9.3s"
       ]
      },
      {
       "output_type": "stream",
       "stream": "stdout",
       "text": [
        "\r",
        " 33.9% | [###.......] | Progress: 9541 / 28123 | Time: 4.8s | ETA: 9.3s"
       ]
      },
      {
       "output_type": "stream",
       "stream": "stdout",
       "text": [
        "\r",
        " 34.1% | [###.......] | Progress: 9601 / 28123 | Time: 4.8s | ETA: 9.3s"
       ]
      },
      {
       "output_type": "stream",
       "stream": "stdout",
       "text": [
        "\r",
        " 34.6% | [###.......] | Progress: 9721 / 28123 | Time: 4.9s | ETA: 9.2s"
       ]
      },
      {
       "output_type": "stream",
       "stream": "stdout",
       "text": [
        "\r",
        " 34.8% | [###.......] | Progress: 9796 / 28123 | Time: 4.9s | ETA: 9.2s"
       ]
      },
      {
       "output_type": "stream",
       "stream": "stdout",
       "text": [
        "\r",
        " 35.2% | [###.......] | Progress: 9904 / 28123 | Time: 5.0s | ETA: 9.2s"
       ]
      },
      {
       "output_type": "stream",
       "stream": "stdout",
       "text": [
        "\r",
        " 35.5% | [###.......] | Progress: 9990 / 28123 | Time: 5.0s | ETA: 9.1s"
       ]
      },
      {
       "output_type": "stream",
       "stream": "stdout",
       "text": [
        "\r",
        " 35.9% | [###.......] | Progress: 10097 / 28123 | Time: 5.1s | ETA: 9.1s"
       ]
      },
      {
       "output_type": "stream",
       "stream": "stdout",
       "text": [
        "\r",
        " 36.2% | [###.......] | Progress: 10187 / 28123 | Time: 5.1s | ETA: 9.0s"
       ]
      },
      {
       "output_type": "stream",
       "stream": "stdout",
       "text": [
        "\r",
        " 36.4% | [###.......] | Progress: 10241 / 28123 | Time: 5.2s | ETA: 9.1s"
       ]
      },
      {
       "output_type": "stream",
       "stream": "stdout",
       "text": [
        "\r",
        " 36.9% | [###.......] | Progress: 10368 / 28123 | Time: 5.3s | ETA: 9.0s"
       ]
      },
      {
       "output_type": "stream",
       "stream": "stdout",
       "text": [
        "\r",
        " 37.0% | [###.......] | Progress: 10407 / 28123 | Time: 5.3s | ETA: 9.1s"
       ]
      },
      {
       "output_type": "stream",
       "stream": "stdout",
       "text": [
        "\r",
        " 37.4% | [###.......] | Progress: 10504 / 28123 | Time: 5.4s | ETA: 9.0s"
       ]
      },
      {
       "output_type": "stream",
       "stream": "stdout",
       "text": [
        "\r",
        " 37.7% | [###.......] | Progress: 10609 / 28123 | Time: 5.4s | ETA: 9.0s"
       ]
      },
      {
       "output_type": "stream",
       "stream": "stdout",
       "text": [
        "\r",
        " 38.0% | [###.......] | Progress: 10691 / 28123 | Time: 5.5s | ETA: 8.9s"
       ]
      },
      {
       "output_type": "stream",
       "stream": "stdout",
       "text": [
        "\r",
        " 38.2% | [###.......] | Progress: 10753 / 28123 | Time: 5.5s | ETA: 9.0s"
       ]
      },
      {
       "output_type": "stream",
       "stream": "stdout",
       "text": [
        "\r",
        " 38.6% | [###.......] | Progress: 10865 / 28123 | Time: 5.6s | ETA: 8.9s"
       ]
      },
      {
       "output_type": "stream",
       "stream": "stdout",
       "text": [
        "\r",
        " 39.0% | [###.......] | Progress: 10954 / 28123 | Time: 5.6s | ETA: 8.8s"
       ]
      },
      {
       "output_type": "stream",
       "stream": "stdout",
       "text": [
        "\r",
        " 39.3% | [###.......] | Progress: 11042 / 28123 | Time: 5.7s | ETA: 8.8s"
       ]
      },
      {
       "output_type": "stream",
       "stream": "stdout",
       "text": [
        "\r",
        " 39.7% | [###.......] | Progress: 11153 / 28123 | Time: 5.7s | ETA: 8.7s"
       ]
      },
      {
       "output_type": "stream",
       "stream": "stdout",
       "text": [
        "\r",
        " 40.0% | [###.......] | Progress: 11247 / 28123 | Time: 5.8s | ETA: 8.7s"
       ]
      },
      {
       "output_type": "stream",
       "stream": "stdout",
       "text": [
        "\r",
        " 40.1% | [####......] | Progress: 11265 / 28123 | Time: 5.9s | ETA: 8.8s"
       ]
      },
      {
       "output_type": "stream",
       "stream": "stdout",
       "text": [
        "\r",
        " 40.5% | [####......] | Progress: 11382 / 28123 | Time: 5.9s | ETA: 8.7s"
       ]
      },
      {
       "output_type": "stream",
       "stream": "stdout",
       "text": [
        "\r",
        " 40.9% | [####......] | Progress: 11489 / 28123 | Time: 6.0s | ETA: 8.6s"
       ]
      },
      {
       "output_type": "stream",
       "stream": "stdout",
       "text": [
        "\r",
        " 41.0% | [####......] | Progress: 11525 / 28123 | Time: 6.0s | ETA: 8.6s"
       ]
      },
      {
       "output_type": "stream",
       "stream": "stdout",
       "text": [
        "\r",
        " 41.4% | [####......] | Progress: 11645 / 28123 | Time: 6.1s | ETA: 8.6s"
       ]
      },
      {
       "output_type": "stream",
       "stream": "stdout",
       "text": [
        "\r",
        " 41.6% | [####......] | Progress: 11713 / 28123 | Time: 6.1s | ETA: 8.6s"
       ]
      },
      {
       "output_type": "stream",
       "stream": "stdout",
       "text": [
        "\r",
        " 41.9% | [####......] | Progress: 11777 / 28123 | Time: 6.2s | ETA: 8.6s"
       ]
      },
      {
       "output_type": "stream",
       "stream": "stdout",
       "text": [
        "\r",
        " 42.3% | [####......] | Progress: 11887 / 28123 | Time: 6.2s | ETA: 8.5s"
       ]
      },
      {
       "output_type": "stream",
       "stream": "stdout",
       "text": [
        "\r",
        " 42.6% | [####......] | Progress: 11991 / 28123 | Time: 6.3s | ETA: 8.4s"
       ]
      },
      {
       "output_type": "stream",
       "stream": "stdout",
       "text": [
        "\r",
        " 43.0% | [####......] | Progress: 12081 / 28123 | Time: 6.3s | ETA: 8.4s"
       ]
      },
      {
       "output_type": "stream",
       "stream": "stdout",
       "text": [
        "\r",
        " 43.2% | [####......] | Progress: 12153 / 28123 | Time: 6.4s | ETA: 8.4s"
       ]
      },
      {
       "output_type": "stream",
       "stream": "stdout",
       "text": [
        "\r",
        " 43.6% | [####......] | Progress: 12257 / 28123 | Time: 6.4s | ETA: 8.3s"
       ]
      },
      {
       "output_type": "stream",
       "stream": "stdout",
       "text": [
        "\r",
        " 43.7% | [####......] | Progress: 12289 / 28123 | Time: 6.6s | ETA: 8.5s"
       ]
      },
      {
       "output_type": "stream",
       "stream": "stdout",
       "text": [
        "\r",
        " 44.1% | [####......] | Progress: 12393 / 28123 | Time: 6.6s | ETA: 8.4s"
       ]
      },
      {
       "output_type": "stream",
       "stream": "stdout",
       "text": [
        "\r",
        " 44.4% | [####......] | Progress: 12489 / 28123 | Time: 6.7s | ETA: 8.4s"
       ]
      },
      {
       "output_type": "stream",
       "stream": "stdout",
       "text": [
        "\r",
        " 44.7% | [####......] | Progress: 12571 / 28123 | Time: 6.7s | ETA: 8.3s"
       ]
      },
      {
       "output_type": "stream",
       "stream": "stdout",
       "text": [
        "\r",
        " 45.1% | [####......] | Progress: 12673 / 28123 | Time: 6.8s | ETA: 8.3s"
       ]
      },
      {
       "output_type": "stream",
       "stream": "stdout",
       "text": [
        "\r",
        " 45.4% | [####......] | Progress: 12761 / 28123 | Time: 6.9s | ETA: 8.3s"
       ]
      },
      {
       "output_type": "stream",
       "stream": "stdout",
       "text": [
        "\r",
        " 45.5% | [####......] | Progress: 12801 / 28123 | Time: 6.9s | ETA: 8.3s"
       ]
      },
      {
       "output_type": "stream",
       "stream": "stdout",
       "text": [
        "\r",
        " 45.9% | [####......] | Progress: 12915 / 28123 | Time: 7.0s | ETA: 8.2s"
       ]
      },
      {
       "output_type": "stream",
       "stream": "stdout",
       "text": [
        "\r",
        " 46.2% | [####......] | Progress: 12993 / 28123 | Time: 7.0s | ETA: 8.2s"
       ]
      },
      {
       "output_type": "stream",
       "stream": "stdout",
       "text": [
        "\r",
        " 46.5% | [####......] | Progress: 13077 / 28123 | Time: 7.1s | ETA: 8.1s"
       ]
      },
      {
       "output_type": "stream",
       "stream": "stdout",
       "text": [
        "\r",
        " 46.8% | [####......] | Progress: 13173 / 28123 | Time: 7.1s | ETA: 8.1s"
       ]
      },
      {
       "output_type": "stream",
       "stream": "stdout",
       "text": [
        "\r",
        " 47.2% | [####......] | Progress: 13261 / 28123 | Time: 7.2s | ETA: 8.0s"
       ]
      },
      {
       "output_type": "stream",
       "stream": "stdout",
       "text": [
        "\r",
        " 47.3% | [####......] | Progress: 13313 / 28123 | Time: 7.2s | ETA: 8.0s"
       ]
      },
      {
       "output_type": "stream",
       "stream": "stdout",
       "text": [
        "\r",
        " 47.7% | [####......] | Progress: 13420 / 28123 | Time: 7.3s | ETA: 8.0s"
       ]
      },
      {
       "output_type": "stream",
       "stream": "stdout",
       "text": [
        "\r",
        " 48.0% | [####......] | Progress: 13501 / 28123 | Time: 7.3s | ETA: 7.9s"
       ]
      },
      {
       "output_type": "stream",
       "stream": "stdout",
       "text": [
        "\r",
        " 48.4% | [####......] | Progress: 13601 / 28123 | Time: 7.4s | ETA: 7.9s"
       ]
      },
      {
       "output_type": "stream",
       "stream": "stdout",
       "text": [
        "\r",
        " 48.7% | [####......] | Progress: 13697 / 28123 | Time: 7.4s | ETA: 7.8s"
       ]
      },
      {
       "output_type": "stream",
       "stream": "stdout",
       "text": [
        "\r",
        " 49.0% | [####......] | Progress: 13791 / 28123 | Time: 7.5s | ETA: 7.8s"
       ]
      },
      {
       "output_type": "stream",
       "stream": "stdout",
       "text": [
        "\r",
        " 49.2% | [####......] | Progress: 13825 / 28123 | Time: 7.6s | ETA: 7.8s"
       ]
      },
      {
       "output_type": "stream",
       "stream": "stdout",
       "text": [
        "\r",
        " 49.5% | [####......] | Progress: 13921 / 28123 | Time: 7.6s | ETA: 7.8s"
       ]
      },
      {
       "output_type": "stream",
       "stream": "stdout",
       "text": [
        "\r",
        " 49.8% | [####......] | Progress: 14017 / 28123 | Time: 7.7s | ETA: 7.7s"
       ]
      },
      {
       "output_type": "stream",
       "stream": "stdout",
       "text": [
        "\r",
        " 50.1% | [#####.....] | Progress: 14096 / 28123 | Time: 7.7s | ETA: 7.7s"
       ]
      },
      {
       "output_type": "stream",
       "stream": "stdout",
       "text": [
        "\r",
        " 50.4% | [#####.....] | Progress: 14174 / 28123 | Time: 7.8s | ETA: 7.7s"
       ]
      },
      {
       "output_type": "stream",
       "stream": "stdout",
       "text": [
        "\r",
        " 50.7% | [#####.....] | Progress: 14262 / 28123 | Time: 7.8s | ETA: 7.6s"
       ]
      },
      {
       "output_type": "stream",
       "stream": "stdout",
       "text": [
        "\r",
        " 51.0% | [#####.....] | Progress: 14337 / 28123 | Time: 7.9s | ETA: 7.6s"
       ]
      },
      {
       "output_type": "stream",
       "stream": "stdout",
       "text": [
        "\r",
        " 51.3% | [#####.....] | Progress: 14422 / 28123 | Time: 8.0s | ETA: 7.6s"
       ]
      },
      {
       "output_type": "stream",
       "stream": "stdout",
       "text": [
        "\r",
        " 51.7% | [#####.....] | Progress: 14529 / 28123 | Time: 8.0s | ETA: 7.5s"
       ]
      },
      {
       "output_type": "stream",
       "stream": "stdout",
       "text": [
        "\r",
        " 51.9% | [#####.....] | Progress: 14593 / 28123 | Time: 8.1s | ETA: 7.5s"
       ]
      },
      {
       "output_type": "stream",
       "stream": "stdout",
       "text": [
        "\r",
        " 52.2% | [#####.....] | Progress: 14689 / 28123 | Time: 8.1s | ETA: 7.4s"
       ]
      },
      {
       "output_type": "stream",
       "stream": "stdout",
       "text": [
        "\r",
        " 52.6% | [#####.....] | Progress: 14785 / 28123 | Time: 8.2s | ETA: 7.4s"
       ]
      },
      {
       "output_type": "stream",
       "stream": "stdout",
       "text": [
        "\r",
        " 52.9% | [#####.....] | Progress: 14869 / 28123 | Time: 8.2s | ETA: 7.3s"
       ]
      },
      {
       "output_type": "stream",
       "stream": "stdout",
       "text": [
        "\r",
        " 53.2% | [#####.....] | Progress: 14955 / 28123 | Time: 8.3s | ETA: 7.3s"
       ]
      },
      {
       "output_type": "stream",
       "stream": "stdout",
       "text": [
        "\r",
        " 53.4% | [#####.....] | Progress: 15025 / 28123 | Time: 8.3s | ETA: 7.3s"
       ]
      },
      {
       "output_type": "stream",
       "stream": "stdout",
       "text": [
        "\r",
        " 53.6% | [#####.....] | Progress: 15085 / 28123 | Time: 8.4s | ETA: 7.3s"
       ]
      },
      {
       "output_type": "stream",
       "stream": "stdout",
       "text": [
        "\r",
        " 53.9% | [#####.....] | Progress: 15165 / 28123 | Time: 8.4s | ETA: 7.2s"
       ]
      },
      {
       "output_type": "stream",
       "stream": "stdout",
       "text": [
        "\r",
        " 54.2% | [#####.....] | Progress: 15250 / 28123 | Time: 8.5s | ETA: 7.2s"
       ]
      },
      {
       "output_type": "stream",
       "stream": "stdout",
       "text": [
        "\r",
        " 54.6% | [#####.....] | Progress: 15352 / 28123 | Time: 8.5s | ETA: 7.1s"
       ]
      },
      {
       "output_type": "stream",
       "stream": "stdout",
       "text": [
        "\r",
        " 54.6% | [#####.....] | Progress: 15361 / 28123 | Time: 8.6s | ETA: 7.2s"
       ]
      },
      {
       "output_type": "stream",
       "stream": "stdout",
       "text": [
        "\r",
        " 54.9% | [#####.....] | Progress: 15449 / 28123 | Time: 8.7s | ETA: 7.1s"
       ]
      },
      {
       "output_type": "stream",
       "stream": "stdout",
       "text": [
        "\r",
        " 55.2% | [#####.....] | Progress: 15536 / 28123 | Time: 8.7s | ETA: 7.1s"
       ]
      },
      {
       "output_type": "stream",
       "stream": "stdout",
       "text": [
        "\r",
        " 55.4% | [#####.....] | Progress: 15583 / 28123 | Time: 8.8s | ETA: 7.1s"
       ]
      },
      {
       "output_type": "stream",
       "stream": "stdout",
       "text": [
        "\r",
        " 55.7% | [#####.....] | Progress: 15678 / 28123 | Time: 8.8s | ETA: 7.0s"
       ]
      },
      {
       "output_type": "stream",
       "stream": "stdout",
       "text": [
        "\r",
        " 56.0% | [#####.....] | Progress: 15760 / 28123 | Time: 8.9s | ETA: 7.0s"
       ]
      },
      {
       "output_type": "stream",
       "stream": "stdout",
       "text": [
        "\r",
        " 56.3% | [#####.....] | Progress: 15841 / 28123 | Time: 8.9s | ETA: 6.9s"
       ]
      },
      {
       "output_type": "stream",
       "stream": "stdout",
       "text": [
        "\r",
        " 56.6% | [#####.....] | Progress: 15905 / 28123 | Time: 9.0s | ETA: 6.9s"
       ]
      },
      {
       "output_type": "stream",
       "stream": "stdout",
       "text": [
        "\r",
        " 56.9% | [#####.....] | Progress: 16001 / 28123 | Time: 9.1s | ETA: 6.9s"
       ]
      },
      {
       "output_type": "stream",
       "stream": "stdout",
       "text": [
        "\r",
        " 57.2% | [#####.....] | Progress: 16097 / 28123 | Time: 9.1s | ETA: 6.8s"
       ]
      },
      {
       "output_type": "stream",
       "stream": "stdout",
       "text": [
        "\r",
        " 57.4% | [#####.....] | Progress: 16141 / 28123 | Time: 9.2s | ETA: 6.8s"
       ]
      },
      {
       "output_type": "stream",
       "stream": "stdout",
       "text": [
        "\r",
        " 57.7% | [#####.....] | Progress: 16226 / 28123 | Time: 9.2s | ETA: 6.7s"
       ]
      },
      {
       "output_type": "stream",
       "stream": "stdout",
       "text": [
        "\r",
        " 58.0% | [#####.....] | Progress: 16321 / 28123 | Time: 9.3s | ETA: 6.7s"
       ]
      },
      {
       "output_type": "stream",
       "stream": "stdout",
       "text": [
        "\r",
        " 58.3% | [#####.....] | Progress: 16385 / 28123 | Time: 9.5s | ETA: 6.8s"
       ]
      },
      {
       "output_type": "stream",
       "stream": "stdout",
       "text": [
        "\r",
        " 58.6% | [#####.....] | Progress: 16474 / 28123 | Time: 9.6s | ETA: 6.8s"
       ]
      },
      {
       "output_type": "stream",
       "stream": "stdout",
       "text": [
        "\r",
        " 58.9% | [#####.....] | Progress: 16561 / 28123 | Time: 9.6s | ETA: 6.7s"
       ]
      },
      {
       "output_type": "stream",
       "stream": "stdout",
       "text": [
        "\r",
        " 59.2% | [#####.....] | Progress: 16641 / 28123 | Time: 9.7s | ETA: 6.7s"
       ]
      },
      {
       "output_type": "stream",
       "stream": "stdout",
       "text": [
        "\r",
        " 59.4% | [#####.....] | Progress: 16714 / 28123 | Time: 9.8s | ETA: 6.7s"
       ]
      },
      {
       "output_type": "stream",
       "stream": "stdout",
       "text": [
        "\r",
        " 59.7% | [#####.....] | Progress: 16801 / 28123 | Time: 9.8s | ETA: 6.6s"
       ]
      },
      {
       "output_type": "stream",
       "stream": "stdout",
       "text": [
        "\r",
        " 60.1% | [######....] | Progress: 16891 / 28123 | Time: 9.9s | ETA: 6.6s"
       ]
      },
      {
       "output_type": "stream",
       "stream": "stdout",
       "text": [
        "\r",
        " 60.2% | [######....] | Progress: 16929 / 28123 | Time: 9.9s | ETA: 6.6s"
       ]
      },
      {
       "output_type": "stream",
       "stream": "stdout",
       "text": [
        "\r",
        " 60.5% | [######....] | Progress: 17021 / 28123 | Time: 10.0s | ETA: 6.5s"
       ]
      },
      {
       "output_type": "stream",
       "stream": "stdout",
       "text": [
        "\r",
        " 60.8% | [######....] | Progress: 17105 / 28123 | Time: 10.0s | ETA: 6.5s"
       ]
      },
      {
       "output_type": "stream",
       "stream": "stdout",
       "text": [
        "\r",
        " 61.0% | [######....] | Progress: 17161 / 28123 | Time: 10.1s | ETA: 6.4s"
       ]
      },
      {
       "output_type": "stream",
       "stream": "stdout",
       "text": [
        "\r",
        " 61.3% | [######....] | Progress: 17249 / 28123 | Time: 10.1s | ETA: 6.4s"
       ]
      },
      {
       "output_type": "stream",
       "stream": "stdout",
       "text": [
        "\r",
        " 61.5% | [######....] | Progress: 17293 / 28123 | Time: 10.2s | ETA: 6.4s"
       ]
      },
      {
       "output_type": "stream",
       "stream": "stdout",
       "text": [
        "\r",
        " 61.9% | [######....] | Progress: 17401 / 28123 | Time: 10.2s | ETA: 6.3s"
       ]
      },
      {
       "output_type": "stream",
       "stream": "stdout",
       "text": [
        "\r",
        " 62.0% | [######....] | Progress: 17441 / 28123 | Time: 10.3s | ETA: 6.3s"
       ]
      },
      {
       "output_type": "stream",
       "stream": "stdout",
       "text": [
        "\r",
        " 62.2% | [######....] | Progress: 17502 / 28123 | Time: 10.3s | ETA: 6.3s"
       ]
      },
      {
       "output_type": "stream",
       "stream": "stdout",
       "text": [
        "\r",
        " 62.4% | [######....] | Progress: 17560 / 28123 | Time: 10.4s | ETA: 6.2s"
       ]
      },
      {
       "output_type": "stream",
       "stream": "stdout",
       "text": [
        "\r",
        " 62.6% | [######....] | Progress: 17601 / 28123 | Time: 10.4s | ETA: 6.2s"
       ]
      },
      {
       "output_type": "stream",
       "stream": "stdout",
       "text": [
        "\r",
        " 62.9% | [######....] | Progress: 17677 / 28123 | Time: 10.5s | ETA: 6.2s"
       ]
      },
      {
       "output_type": "stream",
       "stream": "stdout",
       "text": [
        "\r",
        " 63.2% | [######....] | Progress: 17777 / 28123 | Time: 10.5s | ETA: 6.1s"
       ]
      },
      {
       "output_type": "stream",
       "stream": "stdout",
       "text": [
        "\r",
        " 63.5% | [######....] | Progress: 17863 / 28123 | Time: 10.6s | ETA: 6.1s"
       ]
      },
      {
       "output_type": "stream",
       "stream": "stdout",
       "text": [
        "\r",
        " 63.7% | [######....] | Progress: 17921 / 28123 | Time: 10.6s | ETA: 6.1s"
       ]
      },
      {
       "output_type": "stream",
       "stream": "stdout",
       "text": [
        "\r",
        " 64.1% | [######....] | Progress: 18013 / 28123 | Time: 10.7s | ETA: 6.0s"
       ]
      },
      {
       "output_type": "stream",
       "stream": "stdout",
       "text": [
        "\r",
        " 64.4% | [######....] | Progress: 18109 / 28123 | Time: 10.7s | ETA: 5.9s"
       ]
      },
      {
       "output_type": "stream",
       "stream": "stdout",
       "text": [
        "\r",
        " 64.6% | [######....] | Progress: 18177 / 28123 | Time: 10.8s | ETA: 5.9s"
       ]
      },
      {
       "output_type": "stream",
       "stream": "stdout",
       "text": [
        "\r",
        " 64.9% | [######....] | Progress: 18258 / 28123 | Time: 10.8s | ETA: 5.9s"
       ]
      },
      {
       "output_type": "stream",
       "stream": "stdout",
       "text": [
        "\r",
        " 65.1% | [######....] | Progress: 18313 / 28123 | Time: 10.9s | ETA: 5.8s"
       ]
      },
      {
       "output_type": "stream",
       "stream": "stdout",
       "text": [
        "\r",
        " 65.5% | [######....] | Progress: 18409 / 28123 | Time: 10.9s | ETA: 5.8s"
       ]
      },
      {
       "output_type": "stream",
       "stream": "stdout",
       "text": [
        "\r",
        " 65.5% | [######....] | Progress: 18433 / 28123 | Time: 11.1s | ETA: 5.8s"
       ]
      },
      {
       "output_type": "stream",
       "stream": "stdout",
       "text": [
        "\r",
        " 65.9% | [######....] | Progress: 18529 / 28123 | Time: 11.1s | ETA: 5.8s"
       ]
      },
      {
       "output_type": "stream",
       "stream": "stdout",
       "text": [
        "\r",
        " 66.2% | [######....] | Progress: 18622 / 28123 | Time: 11.2s | ETA: 5.7s"
       ]
      },
      {
       "output_type": "stream",
       "stream": "stdout",
       "text": [
        "\r",
        " 66.5% | [######....] | Progress: 18709 / 28123 | Time: 11.2s | ETA: 5.7s"
       ]
      },
      {
       "output_type": "stream",
       "stream": "stdout",
       "text": [
        "\r",
        " 66.7% | [######....] | Progress: 18769 / 28123 | Time: 11.3s | ETA: 5.6s"
       ]
      },
      {
       "output_type": "stream",
       "stream": "stdout",
       "text": [
        "\r",
        " 66.9% | [######....] | Progress: 18819 / 28123 | Time: 11.3s | ETA: 5.6s"
       ]
      },
      {
       "output_type": "stream",
       "stream": "stdout",
       "text": [
        "\r",
        " 67.3% | [######....] | Progress: 18921 / 28123 | Time: 11.4s | ETA: 5.5s"
       ]
      },
      {
       "output_type": "stream",
       "stream": "stdout",
       "text": [
        "\r",
        " 67.5% | [######....] | Progress: 18972 / 28123 | Time: 11.4s | ETA: 5.5s"
       ]
      },
      {
       "output_type": "stream",
       "stream": "stdout",
       "text": [
        "\r",
        " 67.6% | [######....] | Progress: 19020 / 28123 | Time: 11.5s | ETA: 5.5s"
       ]
      },
      {
       "output_type": "stream",
       "stream": "stdout",
       "text": [
        "\r",
        " 67.9% | [######....] | Progress: 19097 / 28123 | Time: 11.5s | ETA: 5.5s"
       ]
      },
      {
       "output_type": "stream",
       "stream": "stdout",
       "text": [
        "\r",
        " 68.2% | [######....] | Progress: 19189 / 28123 | Time: 11.6s | ETA: 5.4s"
       ]
      },
      {
       "output_type": "stream",
       "stream": "stdout",
       "text": [
        "\r",
        " 68.4% | [######....] | Progress: 19225 / 28123 | Time: 11.6s | ETA: 5.4s"
       ]
      },
      {
       "output_type": "stream",
       "stream": "stdout",
       "text": [
        "\r",
        " 68.7% | [######....] | Progress: 19315 / 28123 | Time: 11.7s | ETA: 5.3s"
       ]
      },
      {
       "output_type": "stream",
       "stream": "stdout",
       "text": [
        "\r",
        " 68.9% | [######....] | Progress: 19371 / 28123 | Time: 11.7s | ETA: 5.3s"
       ]
      },
      {
       "output_type": "stream",
       "stream": "stdout",
       "text": [
        "\r",
        " 69.1% | [######....] | Progress: 19441 / 28123 | Time: 11.8s | ETA: 5.3s"
       ]
      },
      {
       "output_type": "stream",
       "stream": "stdout",
       "text": [
        "\r",
        " 69.3% | [######....] | Progress: 19489 / 28123 | Time: 11.8s | ETA: 5.2s"
       ]
      },
      {
       "output_type": "stream",
       "stream": "stdout",
       "text": [
        "\r",
        " 69.6% | [######....] | Progress: 19585 / 28123 | Time: 11.9s | ETA: 5.2s"
       ]
      },
      {
       "output_type": "stream",
       "stream": "stdout",
       "text": [
        "\r",
        " 70.0% | [######....] | Progress: 19681 / 28123 | Time: 12.0s | ETA: 5.1s"
       ]
      },
      {
       "output_type": "stream",
       "stream": "stdout",
       "text": [
        "\r",
        " 70.2% | [#######...] | Progress: 19744 / 28123 | Time: 12.0s | ETA: 5.1s"
       ]
      },
      {
       "output_type": "stream",
       "stream": "stdout",
       "text": [
        "\r",
        " 70.5% | [#######...] | Progress: 19814 / 28123 | Time: 12.1s | ETA: 5.1s"
       ]
      },
      {
       "output_type": "stream",
       "stream": "stdout",
       "text": [
        "\r",
        " 70.6% | [#######...] | Progress: 19857 / 28123 | Time: 12.1s | ETA: 5.0s"
       ]
      },
      {
       "output_type": "stream",
       "stream": "stdout",
       "text": [
        "\r",
        " 70.9% | [#######...] | Progress: 19945 / 28123 | Time: 12.2s | ETA: 5.0s"
       ]
      },
      {
       "output_type": "stream",
       "stream": "stdout",
       "text": [
        "\r",
        " 71.1% | [#######...] | Progress: 19989 / 28123 | Time: 12.2s | ETA: 5.0s"
       ]
      },
      {
       "output_type": "stream",
       "stream": "stdout",
       "text": [
        "\r",
        " 71.4% | [#######...] | Progress: 20078 / 28123 | Time: 12.3s | ETA: 4.9s"
       ]
      },
      {
       "output_type": "stream",
       "stream": "stdout",
       "text": [
        "\r",
        " 71.7% | [#######...] | Progress: 20161 / 28123 | Time: 12.3s | ETA: 4.9s"
       ]
      },
      {
       "output_type": "stream",
       "stream": "stdout",
       "text": [
        "\r",
        " 72.0% | [#######...] | Progress: 20248 / 28123 | Time: 12.4s | ETA: 4.8s"
       ]
      },
      {
       "output_type": "stream",
       "stream": "stdout",
       "text": [
        "\r",
        " 72.3% | [#######...] | Progress: 20329 / 28123 | Time: 12.4s | ETA: 4.8s"
       ]
      },
      {
       "output_type": "stream",
       "stream": "stdout",
       "text": [
        "\r",
        " 72.5% | [#######...] | Progress: 20385 / 28123 | Time: 12.5s | ETA: 4.7s"
       ]
      },
      {
       "output_type": "stream",
       "stream": "stdout",
       "text": [
        "\r",
        " 72.7% | [#######...] | Progress: 20443 / 28123 | Time: 12.5s | ETA: 4.7s"
       ]
      },
      {
       "output_type": "stream",
       "stream": "stdout",
       "text": [
        "\r",
        " 72.8% | [#######...] | Progress: 20481 / 28123 | Time: 12.7s | ETA: 4.7s"
       ]
      },
      {
       "output_type": "stream",
       "stream": "stdout",
       "text": [
        "\r",
        " 73.2% | [#######...] | Progress: 20578 / 28123 | Time: 12.7s | ETA: 4.7s"
       ]
      },
      {
       "output_type": "stream",
       "stream": "stdout",
       "text": [
        "\r",
        " 73.5% | [#######...] | Progress: 20657 / 28123 | Time: 12.8s | ETA: 4.6s"
       ]
      },
      {
       "output_type": "stream",
       "stream": "stdout",
       "text": [
        "\r",
        " 73.7% | [#######...] | Progress: 20737 / 28123 | Time: 12.9s | ETA: 4.6s"
       ]
      },
      {
       "output_type": "stream",
       "stream": "stdout",
       "text": [
        "\r",
        " 74.1% | [#######...] | Progress: 20833 / 28123 | Time: 12.9s | ETA: 4.5s"
       ]
      },
      {
       "output_type": "stream",
       "stream": "stdout",
       "text": [
        "\r",
        " 74.4% | [#######...] | Progress: 20929 / 28123 | Time: 13.0s | ETA: 4.5s"
       ]
      },
      {
       "output_type": "stream",
       "stream": "stdout",
       "text": [
        "\r",
        " 74.7% | [#######...] | Progress: 21001 / 28123 | Time: 13.0s | ETA: 4.4s"
       ]
      },
      {
       "output_type": "stream",
       "stream": "stdout",
       "text": [
        "\r",
        " 75.0% | [#######...] | Progress: 21097 / 28123 | Time: 13.1s | ETA: 4.4s"
       ]
      },
      {
       "output_type": "stream",
       "stream": "stdout",
       "text": [
        "\r",
        " 75.2% | [#######...] | Progress: 21145 / 28123 | Time: 13.1s | ETA: 4.3s"
       ]
      },
      {
       "output_type": "stream",
       "stream": "stdout",
       "text": [
        "\r",
        " 75.4% | [#######...] | Progress: 21204 / 28123 | Time: 13.2s | ETA: 4.3s"
       ]
      },
      {
       "output_type": "stream",
       "stream": "stdout",
       "text": [
        "\r",
        " 75.7% | [#######...] | Progress: 21281 / 28123 | Time: 13.3s | ETA: 4.3s"
       ]
      },
      {
       "output_type": "stream",
       "stream": "stdout",
       "text": [
        "\r",
        " 75.9% | [#######...] | Progress: 21349 / 28123 | Time: 13.3s | ETA: 4.2s"
       ]
      },
      {
       "output_type": "stream",
       "stream": "stdout",
       "text": [
        "\r",
        " 76.2% | [#######...] | Progress: 21433 / 28123 | Time: 13.4s | ETA: 4.2s"
       ]
      },
      {
       "output_type": "stream",
       "stream": "stdout",
       "text": [
        "\r",
        " 76.5% | [#######...] | Progress: 21505 / 28123 | Time: 13.5s | ETA: 4.1s"
       ]
      },
      {
       "output_type": "stream",
       "stream": "stdout",
       "text": [
        "\r",
        " 76.7% | [#######...] | Progress: 21561 / 28123 | Time: 13.5s | ETA: 4.1s"
       ]
      },
      {
       "output_type": "stream",
       "stream": "stdout",
       "text": [
        "\r",
        " 76.8% | [#######...] | Progress: 21608 / 28123 | Time: 13.6s | ETA: 4.1s"
       ]
      },
      {
       "output_type": "stream",
       "stream": "stdout",
       "text": [
        "\r",
        " 77.1% | [#######...] | Progress: 21691 / 28123 | Time: 13.6s | ETA: 4.0s"
       ]
      },
      {
       "output_type": "stream",
       "stream": "stdout",
       "text": [
        "\r",
        " 77.4% | [#######...] | Progress: 21761 / 28123 | Time: 13.7s | ETA: 4.0s"
       ]
      },
      {
       "output_type": "stream",
       "stream": "stdout",
       "text": [
        "\r",
        " 77.6% | [#######...] | Progress: 21829 / 28123 | Time: 13.7s | ETA: 4.0s"
       ]
      },
      {
       "output_type": "stream",
       "stream": "stdout",
       "text": [
        "\r",
        " 77.8% | [#######...] | Progress: 21889 / 28123 | Time: 13.8s | ETA: 3.9s"
       ]
      },
      {
       "output_type": "stream",
       "stream": "stdout",
       "text": [
        "\r",
        " 78.1% | [#######...] | Progress: 21953 / 28123 | Time: 13.8s | ETA: 3.9s"
       ]
      },
      {
       "output_type": "stream",
       "stream": "stdout",
       "text": [
        "\r",
        " 78.3% | [#######...] | Progress: 22017 / 28123 | Time: 13.9s | ETA: 3.9s"
       ]
      },
      {
       "output_type": "stream",
       "stream": "stdout",
       "text": [
        "\r",
        " 78.6% | [#######...] | Progress: 22098 / 28123 | Time: 13.9s | ETA: 3.8s"
       ]
      },
      {
       "output_type": "stream",
       "stream": "stdout",
       "text": [
        "\r",
        " 78.9% | [#######...] | Progress: 22177 / 28123 | Time: 14.0s | ETA: 3.8s"
       ]
      },
      {
       "output_type": "stream",
       "stream": "stdout",
       "text": [
        "\r",
        " 79.2% | [#######...] | Progress: 22273 / 28123 | Time: 14.1s | ETA: 3.7s"
       ]
      },
      {
       "output_type": "stream",
       "stream": "stdout",
       "text": [
        "\r",
        " 79.5% | [#######...] | Progress: 22362 / 28123 | Time: 14.1s | ETA: 3.6s"
       ]
      },
      {
       "output_type": "stream",
       "stream": "stdout",
       "text": [
        "\r",
        " 79.8% | [#######...] | Progress: 22438 / 28123 | Time: 14.2s | ETA: 3.6s"
       ]
      },
      {
       "output_type": "stream",
       "stream": "stdout",
       "text": [
        "\r",
        " 80.0% | [########..] | Progress: 22508 / 28123 | Time: 14.2s | ETA: 3.5s"
       ]
      },
      {
       "output_type": "stream",
       "stream": "stdout",
       "text": [
        "\r",
        " 80.1% | [########..] | Progress: 22529 / 28123 | Time: 14.3s | ETA: 3.5s"
       ]
      },
      {
       "output_type": "stream",
       "stream": "stdout",
       "text": [
        "\r",
        " 80.5% | [########..] | Progress: 22625 / 28123 | Time: 14.3s | ETA: 3.5s"
       ]
      },
      {
       "output_type": "stream",
       "stream": "stdout",
       "text": [
        "\r",
        " 80.7% | [########..] | Progress: 22705 / 28123 | Time: 14.4s | ETA: 3.4s"
       ]
      },
      {
       "output_type": "stream",
       "stream": "stdout",
       "text": [
        "\r",
        " 81.0% | [########..] | Progress: 22785 / 28123 | Time: 14.5s | ETA: 3.4s"
       ]
      },
      {
       "output_type": "stream",
       "stream": "stdout",
       "text": [
        "\r",
        " 81.3% | [########..] | Progress: 22861 / 28123 | Time: 14.5s | ETA: 3.3s"
       ]
      },
      {
       "output_type": "stream",
       "stream": "stdout",
       "text": [
        "\r",
        " 81.6% | [########..] | Progress: 22945 / 28123 | Time: 14.6s | ETA: 3.3s"
       ]
      },
      {
       "output_type": "stream",
       "stream": "stdout",
       "text": [
        "\r",
        " 81.9% | [########..] | Progress: 23023 / 28123 | Time: 14.6s | ETA: 3.2s"
       ]
      },
      {
       "output_type": "stream",
       "stream": "stdout",
       "text": [
        "\r",
        " 81.9% | [########..] | Progress: 23041 / 28123 | Time: 14.7s | ETA: 3.2s"
       ]
      },
      {
       "output_type": "stream",
       "stream": "stdout",
       "text": [
        "\r",
        " 82.3% | [########..] | Progress: 23134 / 28123 | Time: 14.7s | ETA: 3.2s"
       ]
      },
      {
       "output_type": "stream",
       "stream": "stdout",
       "text": [
        "\r",
        " 82.6% | [########..] | Progress: 23221 / 28123 | Time: 14.8s | ETA: 3.1s"
       ]
      },
      {
       "output_type": "stream",
       "stream": "stdout",
       "text": [
        "\r",
        " 82.8% | [########..] | Progress: 23297 / 28123 | Time: 14.8s | ETA: 3.1s"
       ]
      },
      {
       "output_type": "stream",
       "stream": "stdout",
       "text": [
        "\r",
        " 83.0% | [########..] | Progress: 23334 / 28123 | Time: 14.9s | ETA: 3.1s"
       ]
      },
      {
       "output_type": "stream",
       "stream": "stdout",
       "text": [
        "\r",
        " 83.3% | [########..] | Progress: 23413 / 28123 | Time: 14.9s | ETA: 3.0s"
       ]
      },
      {
       "output_type": "stream",
       "stream": "stdout",
       "text": [
        "\r",
        " 83.6% | [########..] | Progress: 23500 / 28123 | Time: 15.0s | ETA: 2.9s"
       ]
      },
      {
       "output_type": "stream",
       "stream": "stdout",
       "text": [
        "\r",
        " 83.7% | [########..] | Progress: 23553 / 28123 | Time: 15.1s | ETA: 2.9s"
       ]
      },
      {
       "output_type": "stream",
       "stream": "stdout",
       "text": [
        "\r",
        " 84.0% | [########..] | Progress: 23621 / 28123 | Time: 15.1s | ETA: 2.9s"
       ]
      },
      {
       "output_type": "stream",
       "stream": "stdout",
       "text": [
        "\r",
        " 84.3% | [########..] | Progress: 23704 / 28123 | Time: 15.2s | ETA: 2.8s"
       ]
      },
      {
       "output_type": "stream",
       "stream": "stdout",
       "text": [
        "\r",
        " 84.6% | [########..] | Progress: 23787 / 28123 | Time: 15.2s | ETA: 2.8s"
       ]
      },
      {
       "output_type": "stream",
       "stream": "stdout",
       "text": [
        "\r",
        " 84.8% | [########..] | Progress: 23846 / 28123 | Time: 15.3s | ETA: 2.7s"
       ]
      },
      {
       "output_type": "stream",
       "stream": "stdout",
       "text": [
        "\r",
        " 85.1% | [########..] | Progress: 23935 / 28123 | Time: 15.3s | ETA: 2.7s"
       ]
      },
      {
       "output_type": "stream",
       "stream": "stdout",
       "text": [
        "\r",
        " 85.3% | [########..] | Progress: 24001 / 28123 | Time: 15.4s | ETA: 2.6s"
       ]
      },
      {
       "output_type": "stream",
       "stream": "stdout",
       "text": [
        "\r",
        " 85.6% | [########..] | Progress: 24065 / 28123 | Time: 15.4s | ETA: 2.6s"
       ]
      },
      {
       "output_type": "stream",
       "stream": "stdout",
       "text": [
        "\r",
        " 85.9% | [########..] | Progress: 24152 / 28123 | Time: 15.5s | ETA: 2.5s"
       ]
      },
      {
       "output_type": "stream",
       "stream": "stdout",
       "text": [
        "\r",
        " 86.0% | [########..] | Progress: 24193 / 28123 | Time: 15.6s | ETA: 2.5s"
       ]
      },
      {
       "output_type": "stream",
       "stream": "stdout",
       "text": [
        "\r",
        " 86.4% | [########..] | Progress: 24289 / 28123 | Time: 15.6s | ETA: 2.5s"
       ]
      },
      {
       "output_type": "stream",
       "stream": "stdout",
       "text": [
        "\r",
        " 86.6% | [########..] | Progress: 24345 / 28123 | Time: 15.7s | ETA: 2.4s"
       ]
      },
      {
       "output_type": "stream",
       "stream": "stdout",
       "text": [
        "\r",
        " 86.9% | [########..] | Progress: 24436 / 28123 | Time: 15.7s | ETA: 2.4s"
       ]
      },
      {
       "output_type": "stream",
       "stream": "stdout",
       "text": [
        "\r",
        " 87.2% | [########..] | Progress: 24517 / 28123 | Time: 15.8s | ETA: 2.3s"
       ]
      },
      {
       "output_type": "stream",
       "stream": "stdout",
       "text": [
        "\r",
        " 87.4% | [########..] | Progress: 24577 / 28123 | Time: 16.1s | ETA: 2.3s"
       ]
      },
      {
       "output_type": "stream",
       "stream": "stdout",
       "text": [
        "\r",
        " 87.7% | [########..] | Progress: 24655 / 28123 | Time: 16.1s | ETA: 2.3s"
       ]
      },
      {
       "output_type": "stream",
       "stream": "stdout",
       "text": [
        "\r",
        " 88.0% | [########..] | Progress: 24743 / 28123 | Time: 16.2s | ETA: 2.2s"
       ]
      },
      {
       "output_type": "stream",
       "stream": "stdout",
       "text": [
        "\r",
        " 88.2% | [########..] | Progress: 24817 / 28123 | Time: 16.2s | ETA: 2.2s"
       ]
      },
      {
       "output_type": "stream",
       "stream": "stdout",
       "text": [
        "\r",
        " 88.5% | [########..] | Progress: 24897 / 28123 | Time: 16.3s | ETA: 2.1s"
       ]
      },
      {
       "output_type": "stream",
       "stream": "stdout",
       "text": [
        "\r",
        " 88.8% | [########..] | Progress: 24965 / 28123 | Time: 16.3s | ETA: 2.1s"
       ]
      },
      {
       "output_type": "stream",
       "stream": "stdout",
       "text": [
        "\r",
        " 89.1% | [########..] | Progress: 25051 / 28123 | Time: 16.4s | ETA: 2.0s"
       ]
      },
      {
       "output_type": "stream",
       "stream": "stdout",
       "text": [
        "\r",
        " 89.2% | [########..] | Progress: 25089 / 28123 | Time: 16.4s | ETA: 2.0s"
       ]
      },
      {
       "output_type": "stream",
       "stream": "stdout",
       "text": [
        "\r",
        " 89.5% | [########..] | Progress: 25183 / 28123 | Time: 16.5s | ETA: 1.9s"
       ]
      },
      {
       "output_type": "stream",
       "stream": "stdout",
       "text": [
        "\r",
        " 89.9% | [########..] | Progress: 25269 / 28123 | Time: 16.5s | ETA: 1.9s"
       ]
      },
      {
       "output_type": "stream",
       "stream": "stdout",
       "text": [
        "\r",
        " 90.1% | [#########.] | Progress: 25345 / 28123 | Time: 16.6s | ETA: 1.8s"
       ]
      },
      {
       "output_type": "stream",
       "stream": "stdout",
       "text": [
        "\r",
        " 90.5% | [#########.] | Progress: 25441 / 28123 | Time: 16.7s | ETA: 1.8s"
       ]
      },
      {
       "output_type": "stream",
       "stream": "stdout",
       "text": [
        "\r",
        " 90.8% | [#########.] | Progress: 25525 / 28123 | Time: 16.7s | ETA: 1.7s"
       ]
      },
      {
       "output_type": "stream",
       "stream": "stdout",
       "text": [
        "\r",
        " 91.0% | [#########.] | Progress: 25601 / 28123 | Time: 16.8s | ETA: 1.7s"
       ]
      },
      {
       "output_type": "stream",
       "stream": "stdout",
       "text": [
        "\r",
        " 91.3% | [#########.] | Progress: 25685 / 28123 | Time: 16.9s | ETA: 1.6s"
       ]
      },
      {
       "output_type": "stream",
       "stream": "stdout",
       "text": [
        "\r",
        " 91.6% | [#########.] | Progress: 25761 / 28123 | Time: 16.9s | ETA: 1.6s"
       ]
      },
      {
       "output_type": "stream",
       "stream": "stdout",
       "text": [
        "\r",
        " 91.9% | [#########.] | Progress: 25852 / 28123 | Time: 17.0s | ETA: 1.5s"
       ]
      },
      {
       "output_type": "stream",
       "stream": "stdout",
       "text": [
        "\r",
        " 92.2% | [#########.] | Progress: 25921 / 28123 | Time: 17.1s | ETA: 1.4s"
       ]
      },
      {
       "output_type": "stream",
       "stream": "stdout",
       "text": [
        "\r",
        " 92.5% | [#########.] | Progress: 26004 / 28123 | Time: 17.1s | ETA: 1.4s"
       ]
      },
      {
       "output_type": "stream",
       "stream": "stdout",
       "text": [
        "\r",
        " 92.8% | [#########.] | Progress: 26094 / 28123 | Time: 17.2s | ETA: 1.3s"
       ]
      },
      {
       "output_type": "stream",
       "stream": "stdout",
       "text": [
        "\r",
        " 92.9% | [#########.] | Progress: 26113 / 28123 | Time: 17.2s | ETA: 1.3s"
       ]
      },
      {
       "output_type": "stream",
       "stream": "stdout",
       "text": [
        "\r",
        " 93.2% | [#########.] | Progress: 26209 / 28123 | Time: 17.3s | ETA: 1.3s"
       ]
      },
      {
       "output_type": "stream",
       "stream": "stdout",
       "text": [
        "\r",
        " 93.4% | [#########.] | Progress: 26269 / 28123 | Time: 17.3s | ETA: 1.2s"
       ]
      },
      {
       "output_type": "stream",
       "stream": "stdout",
       "text": [
        "\r",
        " 93.7% | [#########.] | Progress: 26353 / 28123 | Time: 17.4s | ETA: 1.2s"
       ]
      },
      {
       "output_type": "stream",
       "stream": "stdout",
       "text": [
        "\r",
        " 94.0% | [#########.] | Progress: 26426 / 28123 | Time: 17.4s | ETA: 1.1s"
       ]
      },
      {
       "output_type": "stream",
       "stream": "stdout",
       "text": [
        "\r",
        " 94.2% | [#########.] | Progress: 26497 / 28123 | Time: 17.5s | ETA: 1.1s"
       ]
      },
      {
       "output_type": "stream",
       "stream": "stdout",
       "text": [
        "\r",
        " 94.5% | [#########.] | Progress: 26574 / 28123 | Time: 17.5s | ETA: 1.0s"
       ]
      },
      {
       "output_type": "stream",
       "stream": "stdout",
       "text": [
        "\r",
        " 94.7% | [#########.] | Progress: 26625 / 28123 | Time: 17.6s | ETA: 1.0s"
       ]
      },
      {
       "output_type": "stream",
       "stream": "stdout",
       "text": [
        "\r",
        " 94.9% | [#########.] | Progress: 26677 / 28123 | Time: 17.7s | ETA: 1.0s"
       ]
      },
      {
       "output_type": "stream",
       "stream": "stdout",
       "text": [
        "\r",
        " 95.1% | [#########.] | Progress: 26753 / 28123 | Time: 17.8s | ETA: 0.9s"
       ]
      },
      {
       "output_type": "stream",
       "stream": "stdout",
       "text": [
        "\r",
        " 95.4% | [#########.] | Progress: 26839 / 28123 | Time: 17.8s | ETA: 0.9s"
       ]
      },
      {
       "output_type": "stream",
       "stream": "stdout",
       "text": [
        "\r",
        " 95.6% | [#########.] | Progress: 26881 / 28123 | Time: 17.9s | ETA: 0.8s"
       ]
      },
      {
       "output_type": "stream",
       "stream": "stdout",
       "text": [
        "\r",
        " 95.9% | [#########.] | Progress: 26974 / 28123 | Time: 17.9s | ETA: 0.8s"
       ]
      },
      {
       "output_type": "stream",
       "stream": "stdout",
       "text": [
        "\r",
        " 96.2% | [#########.] | Progress: 27049 / 28123 | Time: 18.0s | ETA: 0.7s"
       ]
      },
      {
       "output_type": "stream",
       "stream": "stdout",
       "text": [
        "\r",
        " 96.5% | [#########.] | Progress: 27127 / 28123 | Time: 18.0s | ETA: 0.7s"
       ]
      },
      {
       "output_type": "stream",
       "stream": "stdout",
       "text": [
        "\r",
        " 96.6% | [#########.] | Progress: 27172 / 28123 | Time: 18.1s | ETA: 0.6s"
       ]
      },
      {
       "output_type": "stream",
       "stream": "stdout",
       "text": [
        "\r",
        " 96.8% | [#########.] | Progress: 27229 / 28123 | Time: 18.1s | ETA: 0.6s"
       ]
      },
      {
       "output_type": "stream",
       "stream": "stdout",
       "text": [
        "\r",
        " 97.1% | [#########.] | Progress: 27313 / 28123 | Time: 18.2s | ETA: 0.5s"
       ]
      },
      {
       "output_type": "stream",
       "stream": "stdout",
       "text": [
        "\r",
        " 97.4% | [#########.] | Progress: 27393 / 28123 | Time: 18.2s | ETA: 0.5s"
       ]
      },
      {
       "output_type": "stream",
       "stream": "stdout",
       "text": [
        "\r",
        " 97.7% | [#########.] | Progress: 27473 / 28123 | Time: 18.3s | ETA: 0.4s"
       ]
      },
      {
       "output_type": "stream",
       "stream": "stdout",
       "text": [
        "\r",
        " 98.0% | [#########.] | Progress: 27553 / 28123 | Time: 18.3s | ETA: 0.4s"
       ]
      },
      {
       "output_type": "stream",
       "stream": "stdout",
       "text": [
        "\r",
        " 98.2% | [#########.] | Progress: 27625 / 28123 | Time: 18.4s | ETA: 0.3s"
       ]
      },
      {
       "output_type": "stream",
       "stream": "stdout",
       "text": [
        "\r",
        " 98.3% | [#########.] | Progress: 27649 / 28123 | Time: 18.5s | ETA: 0.3s"
       ]
      },
      {
       "output_type": "stream",
       "stream": "stdout",
       "text": [
        "\r",
        " 98.6% | [#########.] | Progress: 27732 / 28123 | Time: 18.6s | ETA: 0.3s"
       ]
      },
      {
       "output_type": "stream",
       "stream": "stdout",
       "text": [
        "\r",
        " 98.9% | [#########.] | Progress: 27809 / 28123 | Time: 18.6s | ETA: 0.2s"
       ]
      },
      {
       "output_type": "stream",
       "stream": "stdout",
       "text": [
        "\r",
        " 99.2% | [#########.] | Progress: 27889 / 28123 | Time: 18.7s | ETA: 0.2s"
       ]
      },
      {
       "output_type": "stream",
       "stream": "stdout",
       "text": [
        "\r",
        " 99.4% | [#########.] | Progress: 27966 / 28123 | Time: 18.7s | ETA: 0.1s"
       ]
      },
      {
       "output_type": "stream",
       "stream": "stdout",
       "text": [
        "\r",
        " 99.7% | [#########.] | Progress: 28033 / 28123 | Time: 18.8s | ETA: 0.1s"
       ]
      },
      {
       "output_type": "stream",
       "stream": "stdout",
       "text": [
        "\r",
        "100.0% | [#########.] | Progress: 28115 / 28123 | Time: 18.8s | ETA: 0.0s"
       ]
      },
      {
       "output_type": "stream",
       "stream": "stdout",
       "text": [
        "\r",
        "100.0% | [##########] | Progress: 28122 / 28123 | Time: 18.8s | ETA: --"
       ]
      }
     ],
     "prompt_number": 5
    },
    {
     "cell_type": "markdown",
     "metadata": {},
     "source": [
      "acquire the abundent numbers only:"
     ]
    },
    {
     "cell_type": "code",
     "collapsed": false,
     "input": [
      "abundent={k for k,v in a.items() if v>k}"
     ],
     "language": "python",
     "metadata": {},
     "outputs": [],
     "prompt_number": 6
    },
    {
     "cell_type": "code",
     "collapsed": false,
     "input": [
      "max(abundent)"
     ],
     "language": "python",
     "metadata": {},
     "outputs": [
      {
       "metadata": {},
       "output_type": "pyout",
       "prompt_number": 8,
       "text": [
        "28122"
       ]
      }
     ],
     "prompt_number": 8
    },
    {
     "cell_type": "markdown",
     "metadata": {},
     "source": [
      "generate all sums of abundent numbers"
     ]
    },
    {
     "cell_type": "code",
     "collapsed": false,
     "input": [
      "from itertools import combinations, chain\n",
      "b = set( chain( (sum(i) for i in combinations(abundent,2) if sum(i) < n),\n",
      "             (2*i for i in abundent if 2*i < n)))"
     ],
     "language": "python",
     "metadata": {},
     "outputs": [],
     "prompt_number": 32
    },
    {
     "cell_type": "markdown",
     "metadata": {},
     "source": [
      "sum for all numbers that are not sum of abundent:"
     ]
    },
    {
     "cell_type": "code",
     "collapsed": false,
     "input": [
      "sum(i for i in range(1,n) if i not in b)"
     ],
     "language": "python",
     "metadata": {},
     "outputs": [
      {
       "metadata": {},
       "output_type": "pyout",
       "prompt_number": 34,
       "text": [
        "4179871"
       ]
      }
     ],
     "prompt_number": 34
    }
   ],
   "metadata": {}
  }
 ]
}