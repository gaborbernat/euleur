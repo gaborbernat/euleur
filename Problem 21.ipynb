{
 "metadata": {
  "name": "",
  "signature": "sha256:9a9a9375e33320bfe6c9f262c5389f1c7ec95391169ede070e59fa0d6938a4c2"
 },
 "nbformat": 3,
 "nbformat_minor": 0,
 "worksheets": [
  {
   "cells": [
    {
     "cell_type": "code",
     "collapsed": false,
     "input": [
      "n = int(10000)\n",
      "import pyprimes\n",
      "p = list(pyprimes.primes_below(n/2))"
     ],
     "language": "python",
     "metadata": {},
     "outputs": [],
     "prompt_number": 77
    },
    {
     "cell_type": "code",
     "collapsed": false,
     "input": [
      "from bisect import bisect_left\n",
      "from collections import Counter\n",
      "def divisors(m):\n",
      "    counter = Counter()\n",
      "    for d in p[:bisect_left(p, m/2)]:\n",
      "        while not m%d:\n",
      "            counter[d] += 1\n",
      "            m = m/d\n",
      "    return(counter)"
     ],
     "language": "python",
     "metadata": {},
     "outputs": [],
     "prompt_number": 78
    },
    {
     "cell_type": "code",
     "collapsed": false,
     "input": [
      "from numpy import prod\n",
      "from itertools import combinations\n",
      "from itertools import chain\n",
      "def d(m):\n",
      "    d = divisors(m)\n",
      "    return sum(set(chain.from_iterable( (prod(i) for i in combinations(d.elements(), k)) for k in range(1, sum(d.values()))))) + 1"
     ],
     "language": "python",
     "metadata": {},
     "outputs": [],
     "prompt_number": 102
    },
    {
     "cell_type": "code",
     "collapsed": false,
     "input": [
      "da = { i:d(i) for i in range(1,n) }"
     ],
     "language": "python",
     "metadata": {},
     "outputs": [],
     "prompt_number": 104
    },
    {
     "cell_type": "code",
     "collapsed": false,
     "input": [
      "s = 0\n",
      "for k , v in da.items():\n",
      "    if v in da and k == da[v] and k != v:\n",
      "        print(k, v)\n",
      "        s += k\n",
      "print(s)"
     ],
     "language": "python",
     "metadata": {},
     "outputs": [
      {
       "output_type": "stream",
       "stream": "stdout",
       "text": [
        "220 284\n",
        "284 220\n",
        "1184 1210\n",
        "1210 1184\n",
        "2620 2924\n",
        "2924 2620\n",
        "5020 5564\n",
        "5564 5020\n",
        "6232 6368\n",
        "6368 6232\n",
        "31626\n"
       ]
      }
     ],
     "prompt_number": 105
    },
    {
     "cell_type": "code",
     "collapsed": false,
     "input": [
      "da[1184]"
     ],
     "language": "python",
     "metadata": {},
     "outputs": [
      {
       "metadata": {},
       "output_type": "pyout",
       "prompt_number": 84,
       "text": [
        "118"
       ]
      }
     ],
     "prompt_number": 84
    },
    {
     "cell_type": "code",
     "collapsed": false,
     "input": [
      "d(1184)"
     ],
     "language": "python",
     "metadata": {},
     "outputs": [
      {
       "metadata": {},
       "output_type": "pyout",
       "prompt_number": 103,
       "text": [
        "1210"
       ]
      }
     ],
     "prompt_number": 103
    },
    {
     "cell_type": "code",
     "collapsed": false,
     "input": [],
     "language": "python",
     "metadata": {},
     "outputs": []
    }
   ],
   "metadata": {}
  }
 ]
}