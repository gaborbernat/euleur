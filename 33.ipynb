{
 "cells": [
  {
   "cell_type": "markdown",
   "metadata": {},
   "source": [
    "The fraction $\\frac{49}{98}$ is a curious fraction, as an inexperienced mathematician in attempting to simplify it may incorrectly believe that $\\frac{49}{98} = \\frac{4}{8}$, which is correct, is obtained by cancelling the 9s.\n",
    "\n",
    "We shall consider fractions like, $\\frac{30}{50} = \\frac{3}{5}$, to be trivial examples.\n",
    "\n",
    "There are exactly four non-trivial examples of this type of fraction, less than one in value, and containing two digits in the numerator and denominator.\n",
    "\n",
    "If the product of these four fractions is given in its lowest common terms, find the value of the denominator."
   ]
  },
  {
   "cell_type": "markdown",
   "metadata": {},
   "source": [
    "1. Let's find the valid examples via brute force, given the form $\\frac{ab}{cd}$."
   ]
  },
  {
   "cell_type": "code",
   "execution_count": 16,
   "metadata": {
    "collapsed": false
   },
   "outputs": [
    {
     "name": "stdout",
     "output_type": "stream",
     "text": [
      "Any[(16,64),(19,95),(26,65),(49,98)]"
     ]
    }
   ],
   "source": [
    "values = []\n",
    "for a = 1:9\n",
    "    for b = 0:9\n",
    "        for c = 1:9\n",
    "            for d = 0:9\n",
    "                n = a * 10 + b\n",
    "                de = c * 10 + d\n",
    "                if n < de \n",
    "                    v = n / de\n",
    "                    if (b != 0 && b == d && v == a / c) || \n",
    "                       (b != 0 && b == c && v == a / d) || \n",
    "                       (a != 0 && a == d && v == b / c) || \n",
    "                       (a != 0 && a == c && v == b / d)\n",
    "                        push!(values, (n, de))\n",
    "                    end\n",
    "                end\n",
    "            end\n",
    "        end\n",
    "    end\n",
    "end\n",
    "print(values)\n",
    "\n"
   ]
  },
  {
   "cell_type": "code",
   "execution_count": 33,
   "metadata": {
    "collapsed": false
   },
   "outputs": [
    {
     "name": "stdout",
     "output_type": "stream",
     "text": [
      "387296/38729600 -> 1//100\n"
     ]
    },
    {
     "data": {
      "text/plain": [
       "100"
      ]
     },
     "execution_count": 33,
     "metadata": {},
     "output_type": "execute_result"
    }
   ],
   "source": [
    "n = prod([i[1] for i in values])\n",
    "de = prod([i[2] for i in values])\n",
    "println(n, \"/\", de, \" -> \", n//de)\n",
    "den(n//de)"
   ]
  },
  {
   "cell_type": "code",
   "execution_count": null,
   "metadata": {
    "collapsed": true
   },
   "outputs": [],
   "source": []
  }
 ],
 "metadata": {
  "kernelspec": {
   "display_name": "Julia 0.4.6",
   "language": "julia",
   "name": "julia-0.4"
  },
  "language_info": {
   "file_extension": ".jl",
   "mimetype": "application/julia",
   "name": "julia",
   "version": "0.4.6"
  }
 },
 "nbformat": 4,
 "nbformat_minor": 0
}
