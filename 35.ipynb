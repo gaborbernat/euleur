{
 "cells": [
  {
   "cell_type": "markdown",
   "metadata": {},
   "source": [
    "The number, $197$, is called a circular prime because all rotations of the digits: $197$, $971$, and $719$, are themselves prime.\n",
    "\n",
    "There are thirteen such primes below $100$: $2$, $3$, $5$, $7$, $11$, $13$, $17$, $31$, $37$, $71$, $73$, $79$, and $97$.\n",
    "\n",
    "How many circular primes are there below one million?"
   ]
  },
  {
   "cell_type": "markdown",
   "metadata": {},
   "source": [
    "For solution lets generate all primes below one million."
   ]
  },
  {
   "cell_type": "code",
   "execution_count": 8,
   "metadata": {
    "collapsed": false
   },
   "outputs": [
    {
     "name": "stdout",
     "output_type": "stream",
     "text": [
      "  0.006152 seconds (23 allocations: 2.255 MB, 48.20% gc time)\n",
      "  0.000635 seconds (19 allocations: 512.672 KB)\n",
      "78498\n"
     ]
    }
   ],
   "source": [
    "N=10^6\n",
    "@time pa = primes(2, N);\n",
    "@time p=IntSet(pa);\n",
    "println(length(pa))"
   ]
  },
  {
   "cell_type": "code",
   "execution_count": 9,
   "metadata": {
    "collapsed": false
   },
   "outputs": [
    {
     "data": {
      "text/plain": [
       "true"
      ]
     },
     "execution_count": 9,
     "metadata": {},
     "output_type": "execute_result"
    }
   ],
   "source": [
    "function is_cp(i)\n",
    "    s = i\n",
    "    n = ndigits(i) - 1\n",
    "    is_circular_prime = true\n",
    "    while true\n",
    "        is_circular_prime = i in p\n",
    "        if is_circular_prime == false \n",
    "            break\n",
    "        end\n",
    "        i = (10^n * mod(i, 10)) + div(i , 10)\n",
    "        if s == i\n",
    "            break\n",
    "        end\n",
    "    end\n",
    "    return is_circular_prime\n",
    "end\n",
    "is_cp(197)"
   ]
  },
  {
   "cell_type": "code",
   "execution_count": 12,
   "metadata": {
    "collapsed": false
   },
   "outputs": [
    {
     "name": "stdout",
     "output_type": "stream",
     "text": [
      "8184200 55\n",
      "Any[2,3,5,7,11,13,17,31,37,71,73,79,97,113,131,197,199,311,337,373,719,733,919,971,991,1193,1931,3119,3779,7793,7937,9311,9377,11939,19391,19937,37199,39119,71993,91193,93719,93911,99371,193939,199933,319993,331999,391939,393919,919393,933199,939193,939391,993319,999331]\n"
     ]
    }
   ],
   "source": [
    "cps = []\n",
    "for i in pa\n",
    "    t = is_cp(i)\n",
    "    if t\n",
    "        push!(cps, i)\n",
    "    end\n",
    "end\n",
    "println(sum(cps), \" \", length(cps) )\n",
    "println(cps)"
   ]
  }
 ],
 "metadata": {
  "kernelspec": {
   "display_name": "Julia 0.4.6",
   "language": "julia",
   "name": "julia-0.4"
  },
  "language_info": {
   "file_extension": ".jl",
   "mimetype": "application/julia",
   "name": "julia",
   "version": "0.4.6"
  }
 },
 "nbformat": 4,
 "nbformat_minor": 0
}
