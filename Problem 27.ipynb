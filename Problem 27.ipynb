{
 "metadata": {
  "name": "",
  "signature": "sha256:991017fe70745e470324481dde2017a869bf19730be6061279dc29ee87b20994"
 },
 "nbformat": 3,
 "nbformat_minor": 0,
 "worksheets": [
  {
   "cells": [
    {
     "cell_type": "markdown",
     "metadata": {},
     "source": [
      "Euler discovered the remarkable quadratic formula:\n",
      "\n",
      "$$n^2 + n + 41$$\n",
      "\n",
      "It turns out that the formula will produce 40 primes for the consecutive values n = 0 to 39. However, when $$n = 40, 40^2 + 40 + 41 = 40(40 + 1) + 41$$ is divisible by 41, and certainly when $$n = 41, 41^2 + 41 + 41$$ is clearly divisible by 41.\n",
      "\n",
      "The incredible formula  $$n^2 \u2212 79n + 1601$$ was discovered, which produces 80 primes for the consecutive values n = 0 to 79. The product of the coefficients, \u221279 and 1601, is \u2212126479.\n",
      "\n",
      "Considering quadratics of the form:\n",
      "\n",
      "$$n^2 + an + b, \\mbox{ where } |a| < 1000 \\mbox{ and } |b| < 1000$$\n",
      "\n",
      "where |n| is the modulus/absolute value of n (e.g. |11| = 11 and |\u22124| = 4). \n",
      "\n",
      "Find the product of the coefficients, a and b, for the quadratic expression that produces the maximum number of primes for consecutive values of n, starting with n = 0."
     ]
    },
    {
     "cell_type": "markdown",
     "metadata": {},
     "source": [
      "first we create the function:"
     ]
    },
    {
     "cell_type": "code",
     "collapsed": false,
     "input": [
      "from pyprimes import isprime\n",
      "def f(n, a, b):\n",
      "    return n**2 + a * n + b"
     ],
     "language": "python",
     "metadata": {},
     "outputs": [],
     "prompt_number": 5
    },
    {
     "cell_type": "markdown",
     "metadata": {},
     "source": [
      "then get the prime numbers"
     ]
    },
    {
     "cell_type": "code",
     "collapsed": false,
     "input": [
      "a_l = 1000\n",
      "b_l = 1000\n",
      "c_p = dict()\n",
      "for a in range(- a_l + 1, a_l - 1):\n",
      "    for b in range(-b_l + 1,b_l - 1):\n",
      "        n = 0 \n",
      "        while isprime(f(n, a, b)):\n",
      "            n += 1\n",
      "        if n > 1\n",
      "            c_p[a, b] = n"
     ],
     "language": "python",
     "metadata": {},
     "outputs": [],
     "prompt_number": 20
    },
    {
     "cell_type": "markdown",
     "metadata": {},
     "source": [
      "get the max value"
     ]
    },
    {
     "cell_type": "code",
     "collapsed": false,
     "input": [
      "m_n = max(c_p.values())"
     ],
     "language": "python",
     "metadata": {},
     "outputs": [],
     "prompt_number": 33
    },
    {
     "cell_type": "markdown",
     "metadata": {},
     "source": [
      "filter for max value"
     ]
    },
    {
     "cell_type": "code",
     "collapsed": false,
     "input": [
      "r = [k for k,v in c_p.items() if v == m_n]"
     ],
     "language": "python",
     "metadata": {},
     "outputs": [],
     "prompt_number": 34
    },
    {
     "cell_type": "markdown",
     "metadata": {},
     "source": [
      "find the product"
     ]
    },
    {
     "cell_type": "code",
     "collapsed": false,
     "input": [
      "from numpy import prod\n",
      "print( prod(r), r, m_n)"
     ],
     "language": "python",
     "metadata": {},
     "outputs": [
      {
       "output_type": "stream",
       "stream": "stdout",
       "text": [
        "-59231 [(-61, 971)] 71\n"
       ]
      }
     ],
     "prompt_number": 36
    }
   ],
   "metadata": {}
  }
 ]
}