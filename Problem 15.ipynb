{
 "metadata": {
  "name": "",
  "signature": "sha256:6d863295e7dee99ab341bdcbddde7a4d4b93acd43a16d14783cf5214c4f326b6"
 },
 "nbformat": 3,
 "nbformat_minor": 0,
 "worksheets": [
  {
   "cells": [
    {
     "cell_type": "markdown",
     "metadata": {},
     "source": [
      "Starting in the top left corner of a 2\u00d72 grid, and only being able to move to the right and down, there are exactly 6 routes to the bottom right corner.\n",
      "\n",
      "\n",
      "How many such routes are there through a 20\u00d720 grid?"
     ]
    },
    {
     "cell_type": "markdown",
     "metadata": {},
     "source": [
      "First we translate a problem into a combinatorical problem. We code the moves, a right move is 1, a left move is 0. This way a solution is a combination of n ones and n zeros. We want to place n ones and n zeros in a 2n positions. Once the zeros are placed the ones position are automatically known. So we reduce the problem to how can we choose n items into 2 n position:\n",
      "\n",
      "$$ \\binom {2n} {n}$$"
     ]
    },
    {
     "cell_type": "code",
     "collapsed": false,
     "input": [
      "from math import factorial\n",
      "n = 20\n",
      "print(int(factorial(2*n)/(factorial(n)*factorial(n))))"
     ],
     "language": "python",
     "metadata": {},
     "outputs": [
      {
       "output_type": "stream",
       "stream": "stdout",
       "text": [
        "137846528820\n"
       ]
      }
     ],
     "prompt_number": 8
    },
    {
     "cell_type": "markdown",
     "metadata": {},
     "source": [
      "This solution is O(1) in both memory and cpu."
     ]
    }
   ],
   "metadata": {}
  }
 ]
}